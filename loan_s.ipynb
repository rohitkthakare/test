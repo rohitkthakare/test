{
 "cells": [
  {
   "cell_type": "markdown",
   "id": "1fc38767",
   "metadata": {},
   "source": [
    "# <font color = \"green\" size = 5> Problem Statement </font>"
   ]
  },
  {
   "cell_type": "markdown",
   "id": "4ca89302",
   "metadata": {},
   "source": [
    "Develop a predictive model to estimate the intrest rate based on the given dataset"
   ]
  },
  {
   "cell_type": "markdown",
   "id": "89f65fee",
   "metadata": {},
   "source": [
    "Column Decsription :\n",
    "\n",
    "1. ID: Unique identifier for each loan application.\n",
    "2. Amount.Requested: The amount of money requested by the borrower in the loan application.\n",
    "3. Amount.Funded.By.Investors: The amount of money funded by investors for the loan.\n",
    "4. Interest.Rate: The interest rate assigned to the loan, usually expressed as a percentage.\n",
    "5. Loan.Length: The length of the loan, typically in months.\n",
    "6. Loan.Purpose: The purpose for which the loan is being requested (e.g., debt consolidation, home improvement, etc.).\n",
    "7. Debt.To.Income.Ratio: The ratio of the borrower's total monthly debt payments to their monthly income, expressed as a percentage.\n",
    "8. State: The state in which the borrower resides.\n",
    "9. Home.Ownership: Indicates whether the borrower owns a home (possible values may include \"Rent\", \"Own\", \"Mortgage\", etc.).\n",
    "10. Monthly.Income: The borrower's monthly income, typically expressed in dollars.\n",
    "11. FICO.Range: The FICO credit score range of the borrower. FICO scores are commonly used in credit decisions and range from 300 to 850.\n",
    "12. Open.CREDIT.Lines: The number of open credit lines (e.g., credit cards, loans) the borrower currently has.\n",
    "13. Revolving.CREDIT.Balance: The total amount of revolving credit (e.g., credit card balances) the borrower currently owes.\n",
    "14. Inquiries.in.the.Last.6.Months: The number of inquiries made on the borrower's credit report in the last 6 months.\n",
    "15. Employment.Length: The length of time the borrower has been employed, typically expressed in years.\n",
    "\n"
   ]
  },
  {
   "cell_type": "markdown",
   "id": "f300388e",
   "metadata": {},
   "source": [
    "### Importing Libraries and loading data "
   ]
  },
  {
   "cell_type": "code",
   "execution_count": 144,
   "id": "108178b6",
   "metadata": {},
   "outputs": [],
   "source": [
    "import pandas as pd\n",
    "import numpy as np\n",
    "import matplotlib.pyplot as plt\n",
    "import seaborn as sns\n",
    "import warnings \n",
    "warnings.filterwarnings(\"ignore\")"
   ]
  },
  {
   "cell_type": "code",
   "execution_count": 145,
   "id": "3f190d57",
   "metadata": {},
   "outputs": [],
   "source": [
    "df=pd.read_csv(r\"C:\\Users\\HP\\Downloads\\loan_data_train.csv\")"
   ]
  },
  {
   "cell_type": "code",
   "execution_count": 146,
   "id": "9419c4a8",
   "metadata": {},
   "outputs": [
    {
     "data": {
      "text/html": [
       "<div>\n",
       "<style scoped>\n",
       "    .dataframe tbody tr th:only-of-type {\n",
       "        vertical-align: middle;\n",
       "    }\n",
       "\n",
       "    .dataframe tbody tr th {\n",
       "        vertical-align: top;\n",
       "    }\n",
       "\n",
       "    .dataframe thead th {\n",
       "        text-align: right;\n",
       "    }\n",
       "</style>\n",
       "<table border=\"1\" class=\"dataframe\">\n",
       "  <thead>\n",
       "    <tr style=\"text-align: right;\">\n",
       "      <th></th>\n",
       "      <th>ID</th>\n",
       "      <th>Amount.Requested</th>\n",
       "      <th>Amount.Funded.By.Investors</th>\n",
       "      <th>Interest.Rate</th>\n",
       "      <th>Loan.Length</th>\n",
       "      <th>Loan.Purpose</th>\n",
       "      <th>Debt.To.Income.Ratio</th>\n",
       "      <th>State</th>\n",
       "      <th>Home.Ownership</th>\n",
       "      <th>Monthly.Income</th>\n",
       "      <th>FICO.Range</th>\n",
       "      <th>Open.CREDIT.Lines</th>\n",
       "      <th>Revolving.CREDIT.Balance</th>\n",
       "      <th>Inquiries.in.the.Last.6.Months</th>\n",
       "      <th>Employment.Length</th>\n",
       "    </tr>\n",
       "  </thead>\n",
       "  <tbody>\n",
       "    <tr>\n",
       "      <th>0</th>\n",
       "      <td>79542.0</td>\n",
       "      <td>25000</td>\n",
       "      <td>25000</td>\n",
       "      <td>18.49%</td>\n",
       "      <td>60 months</td>\n",
       "      <td>debt_consolidation</td>\n",
       "      <td>27.56%</td>\n",
       "      <td>VA</td>\n",
       "      <td>MORTGAGE</td>\n",
       "      <td>8606.56</td>\n",
       "      <td>720-724</td>\n",
       "      <td>11</td>\n",
       "      <td>15210</td>\n",
       "      <td>3.0</td>\n",
       "      <td>5 years</td>\n",
       "    </tr>\n",
       "    <tr>\n",
       "      <th>1</th>\n",
       "      <td>75473.0</td>\n",
       "      <td>19750</td>\n",
       "      <td>19750</td>\n",
       "      <td>17.27%</td>\n",
       "      <td>60 months</td>\n",
       "      <td>debt_consolidation</td>\n",
       "      <td>13.39%</td>\n",
       "      <td>NY</td>\n",
       "      <td>MORTGAGE</td>\n",
       "      <td>6737.50</td>\n",
       "      <td>710-714</td>\n",
       "      <td>14</td>\n",
       "      <td>19070</td>\n",
       "      <td>3.0</td>\n",
       "      <td>4 years</td>\n",
       "    </tr>\n",
       "    <tr>\n",
       "      <th>2</th>\n",
       "      <td>67265.0</td>\n",
       "      <td>2100</td>\n",
       "      <td>2100</td>\n",
       "      <td>14.33%</td>\n",
       "      <td>36 months</td>\n",
       "      <td>major_purchase</td>\n",
       "      <td>3.50%</td>\n",
       "      <td>LA</td>\n",
       "      <td>OWN</td>\n",
       "      <td>1000.00</td>\n",
       "      <td>690-694</td>\n",
       "      <td>13</td>\n",
       "      <td>893</td>\n",
       "      <td>1.0</td>\n",
       "      <td>&lt; 1 year</td>\n",
       "    </tr>\n",
       "    <tr>\n",
       "      <th>3</th>\n",
       "      <td>80167.0</td>\n",
       "      <td>28000</td>\n",
       "      <td>28000</td>\n",
       "      <td>16.29%</td>\n",
       "      <td>36 months</td>\n",
       "      <td>credit_card</td>\n",
       "      <td>19.62%</td>\n",
       "      <td>NV</td>\n",
       "      <td>MORTGAGE</td>\n",
       "      <td>7083.33</td>\n",
       "      <td>710-714</td>\n",
       "      <td>12</td>\n",
       "      <td>38194</td>\n",
       "      <td>1.0</td>\n",
       "      <td>10+ years</td>\n",
       "    </tr>\n",
       "    <tr>\n",
       "      <th>4</th>\n",
       "      <td>17240.0</td>\n",
       "      <td>24250</td>\n",
       "      <td>17431.82</td>\n",
       "      <td>12.23%</td>\n",
       "      <td>60 months</td>\n",
       "      <td>credit_card</td>\n",
       "      <td>23.79%</td>\n",
       "      <td>OH</td>\n",
       "      <td>MORTGAGE</td>\n",
       "      <td>5833.33</td>\n",
       "      <td>730-734</td>\n",
       "      <td>6</td>\n",
       "      <td>31061</td>\n",
       "      <td>2.0</td>\n",
       "      <td>10+ years</td>\n",
       "    </tr>\n",
       "  </tbody>\n",
       "</table>\n",
       "</div>"
      ],
      "text/plain": [
       "        ID Amount.Requested Amount.Funded.By.Investors Interest.Rate  \\\n",
       "0  79542.0            25000                      25000        18.49%   \n",
       "1  75473.0            19750                      19750        17.27%   \n",
       "2  67265.0             2100                       2100        14.33%   \n",
       "3  80167.0            28000                      28000        16.29%   \n",
       "4  17240.0            24250                   17431.82        12.23%   \n",
       "\n",
       "  Loan.Length        Loan.Purpose Debt.To.Income.Ratio State Home.Ownership  \\\n",
       "0   60 months  debt_consolidation               27.56%    VA       MORTGAGE   \n",
       "1   60 months  debt_consolidation               13.39%    NY       MORTGAGE   \n",
       "2   36 months      major_purchase                3.50%    LA            OWN   \n",
       "3   36 months         credit_card               19.62%    NV       MORTGAGE   \n",
       "4   60 months         credit_card               23.79%    OH       MORTGAGE   \n",
       "\n",
       "   Monthly.Income FICO.Range Open.CREDIT.Lines Revolving.CREDIT.Balance  \\\n",
       "0         8606.56    720-724                11                    15210   \n",
       "1         6737.50    710-714                14                    19070   \n",
       "2         1000.00    690-694                13                      893   \n",
       "3         7083.33    710-714                12                    38194   \n",
       "4         5833.33    730-734                 6                    31061   \n",
       "\n",
       "   Inquiries.in.the.Last.6.Months Employment.Length  \n",
       "0                             3.0           5 years  \n",
       "1                             3.0           4 years  \n",
       "2                             1.0          < 1 year  \n",
       "3                             1.0         10+ years  \n",
       "4                             2.0         10+ years  "
      ]
     },
     "execution_count": 146,
     "metadata": {},
     "output_type": "execute_result"
    }
   ],
   "source": [
    "df.head(5)"
   ]
  },
  {
   "cell_type": "markdown",
   "id": "deda07f8",
   "metadata": {},
   "source": [
    "### Data cleaning and EDA "
   ]
  },
  {
   "cell_type": "code",
   "execution_count": 147,
   "id": "b50ad2af",
   "metadata": {},
   "outputs": [
    {
     "name": "stdout",
     "output_type": "stream",
     "text": [
      "<class 'pandas.core.frame.DataFrame'>\n",
      "RangeIndex: 2200 entries, 0 to 2199\n",
      "Data columns (total 15 columns):\n",
      " #   Column                          Non-Null Count  Dtype  \n",
      "---  ------                          --------------  -----  \n",
      " 0   ID                              2199 non-null   float64\n",
      " 1   Amount.Requested                2199 non-null   object \n",
      " 2   Amount.Funded.By.Investors      2199 non-null   object \n",
      " 3   Interest.Rate                   2200 non-null   object \n",
      " 4   Loan.Length                     2199 non-null   object \n",
      " 5   Loan.Purpose                    2199 non-null   object \n",
      " 6   Debt.To.Income.Ratio            2199 non-null   object \n",
      " 7   State                           2199 non-null   object \n",
      " 8   Home.Ownership                  2199 non-null   object \n",
      " 9   Monthly.Income                  2197 non-null   float64\n",
      " 10  FICO.Range                      2200 non-null   object \n",
      " 11  Open.CREDIT.Lines               2196 non-null   object \n",
      " 12  Revolving.CREDIT.Balance        2197 non-null   object \n",
      " 13  Inquiries.in.the.Last.6.Months  2197 non-null   float64\n",
      " 14  Employment.Length               2131 non-null   object \n",
      "dtypes: float64(3), object(12)\n",
      "memory usage: 257.9+ KB\n"
     ]
    }
   ],
   "source": [
    "df.info()"
   ]
  },
  {
   "cell_type": "code",
   "execution_count": 148,
   "id": "868be461",
   "metadata": {},
   "outputs": [],
   "source": [
    "df.columns = df.columns.str.replace('.','_') #rename the all columns"
   ]
  },
  {
   "cell_type": "code",
   "execution_count": 149,
   "id": "e4d5c4ab",
   "metadata": {},
   "outputs": [],
   "source": [
    "# # remove percentage and months from the columns \n",
    "\n",
    "df['Interest_Rate'] = df['Interest_Rate'].str.replace('%','')\n",
    "\n",
    "df['Loan_Length'] = df['Loan_Length'].str.replace('months','')\n",
    "\n",
    "df['Debt_To_Income_Ratio'] = df['Debt_To_Income_Ratio'].str.replace('%','')\n",
    "\n"
   ]
  },
  {
   "cell_type": "code",
   "execution_count": 150,
   "id": "fda3662d",
   "metadata": {},
   "outputs": [],
   "source": [
    "df = df.applymap(lambda x: pd.NA if x == '.' or x == 0 else x)"
   ]
  },
  {
   "cell_type": "code",
   "execution_count": 151,
   "id": "9969b965",
   "metadata": {},
   "outputs": [
    {
     "data": {
      "text/plain": [
       "ID                                   1\n",
       "Amount_Requested                     5\n",
       "Amount_Funded_By_Investors           4\n",
       "Interest_Rate                        0\n",
       "Loan_Length                          2\n",
       "Loan_Purpose                         1\n",
       "Debt_To_Income_Ratio                 1\n",
       "State                                2\n",
       "Home_Ownership                       1\n",
       "Monthly_Income                       3\n",
       "FICO_Range                           0\n",
       "Open_CREDIT_Lines                    7\n",
       "Revolving_CREDIT_Balance             5\n",
       "Inquiries_in_the_Last_6_Months    1108\n",
       "Employment_Length                   70\n",
       "dtype: int64"
      ]
     },
     "execution_count": 151,
     "metadata": {},
     "output_type": "execute_result"
    }
   ],
   "source": [
    "# we were able to find the null values amongst all provided columns .\n",
    "df.isnull().sum()"
   ]
  },
  {
   "cell_type": "code",
   "execution_count": 152,
   "id": "cc4c393b",
   "metadata": {},
   "outputs": [],
   "source": [
    "# we have somee columns and they have object datatype  but they are numeric in nature so we \n",
    "# channge their datatype  into numeric\n",
    "\n",
    "df['Amount_Requested'] = pd.to_numeric(df['Amount_Requested'], errors='coerce')\n",
    "\n",
    "df['Amount_Funded_By_Investors'] = pd.to_numeric(df['Amount_Funded_By_Investors'],errors='coerce')\n",
    "\n",
    "df['Interest_Rate'] = pd.to_numeric(df['Interest_Rate'],errors='coerce')\n",
    "\n",
    "df['Loan_Length'] = pd.to_numeric(df['Loan_Length'],errors='coerce')\n",
    "\n",
    "df['Debt_To_Income_Ratio'] = pd.to_numeric(df['Debt_To_Income_Ratio'],errors='coerce')\n",
    "\n",
    "df['Open_CREDIT_Lines'] = pd.to_numeric(df['Open_CREDIT_Lines'],errors='coerce')\n",
    "\n",
    "df['Revolving_CREDIT_Balance'] = pd.to_numeric(df['Revolving_CREDIT_Balance'],errors='coerce')\n"
   ]
  },
  {
   "cell_type": "code",
   "execution_count": 153,
   "id": "33eb9d9a",
   "metadata": {},
   "outputs": [
    {
     "name": "stdout",
     "output_type": "stream",
     "text": [
      "<class 'pandas.core.frame.DataFrame'>\n",
      "RangeIndex: 2200 entries, 0 to 2199\n",
      "Data columns (total 15 columns):\n",
      " #   Column                          Non-Null Count  Dtype  \n",
      "---  ------                          --------------  -----  \n",
      " 0   ID                              2199 non-null   float64\n",
      " 1   Amount_Requested                2195 non-null   float64\n",
      " 2   Amount_Funded_By_Investors      2196 non-null   float64\n",
      " 3   Interest_Rate                   2200 non-null   float64\n",
      " 4   Loan_Length                     2198 non-null   float64\n",
      " 5   Loan_Purpose                    2199 non-null   object \n",
      " 6   Debt_To_Income_Ratio            2199 non-null   float64\n",
      " 7   State                           2198 non-null   object \n",
      " 8   Home_Ownership                  2199 non-null   object \n",
      " 9   Monthly_Income                  2197 non-null   float64\n",
      " 10  FICO_Range                      2200 non-null   object \n",
      " 11  Open_CREDIT_Lines               2193 non-null   float64\n",
      " 12  Revolving_CREDIT_Balance        2195 non-null   float64\n",
      " 13  Inquiries_in_the_Last_6_Months  1092 non-null   object \n",
      " 14  Employment_Length               2130 non-null   object \n",
      "dtypes: float64(9), object(6)\n",
      "memory usage: 257.9+ KB\n"
     ]
    }
   ],
   "source": [
    "df.info()"
   ]
  },
  {
   "cell_type": "code",
   "execution_count": 154,
   "id": "9e2d4d59",
   "metadata": {},
   "outputs": [],
   "source": [
    "# Drop that column which is not required\n",
    "\n",
    "df = df.drop('ID',axis=1)\n",
    "df = df.drop('Employment_Length',axis=1)\n",
    "df = df.drop('State',axis=1)\n",
    "df = df.drop('Home_Ownership',axis=1)\n",
    "df= df.drop('Loan_Purpose',axis=1)"
   ]
  },
  {
   "cell_type": "code",
   "execution_count": 155,
   "id": "364bb233",
   "metadata": {},
   "outputs": [
    {
     "data": {
      "text/plain": [
       "Amount_Requested              5\n",
       "Amount_Funded_By_Investors    4\n",
       "Interest_Rate                 0\n",
       "Loan_Length                   2\n",
       "Debt_To_Income_Ratio          1\n",
       "Monthly_Income                3\n",
       "FICO_Range                    0\n",
       "Open_CREDIT_Lines             7\n",
       "Revolving_CREDIT_Balance      5\n",
       "dtype: int64"
      ]
     },
     "execution_count": 155,
     "metadata": {},
     "output_type": "execute_result"
    }
   ],
   "source": [
    "df.isnull().sum()"
   ]
  },
  {
   "cell_type": "code",
   "execution_count": 156,
   "id": "a0e22321",
   "metadata": {},
   "outputs": [
    {
     "data": {
      "text/html": [
       "<div>\n",
       "<style scoped>\n",
       "    .dataframe tbody tr th:only-of-type {\n",
       "        vertical-align: middle;\n",
       "    }\n",
       "\n",
       "    .dataframe tbody tr th {\n",
       "        vertical-align: top;\n",
       "    }\n",
       "\n",
       "    .dataframe thead th {\n",
       "        text-align: right;\n",
       "    }\n",
       "</style>\n",
       "<table border=\"1\" class=\"dataframe\">\n",
       "  <thead>\n",
       "    <tr style=\"text-align: right;\">\n",
       "      <th></th>\n",
       "      <th>Amount_Requested</th>\n",
       "      <th>Amount_Funded_By_Investors</th>\n",
       "      <th>Interest_Rate</th>\n",
       "      <th>Loan_Length</th>\n",
       "      <th>Debt_To_Income_Ratio</th>\n",
       "      <th>Monthly_Income</th>\n",
       "      <th>FICO_Range</th>\n",
       "      <th>Open_CREDIT_Lines</th>\n",
       "      <th>Revolving_CREDIT_Balance</th>\n",
       "    </tr>\n",
       "  </thead>\n",
       "  <tbody>\n",
       "    <tr>\n",
       "      <th>0</th>\n",
       "      <td>25000.0</td>\n",
       "      <td>25000.00</td>\n",
       "      <td>18.49</td>\n",
       "      <td>60.0</td>\n",
       "      <td>27.56</td>\n",
       "      <td>8606.56</td>\n",
       "      <td>720</td>\n",
       "      <td>11.0</td>\n",
       "      <td>15210.0</td>\n",
       "    </tr>\n",
       "    <tr>\n",
       "      <th>1</th>\n",
       "      <td>19750.0</td>\n",
       "      <td>19750.00</td>\n",
       "      <td>17.27</td>\n",
       "      <td>60.0</td>\n",
       "      <td>13.39</td>\n",
       "      <td>6737.50</td>\n",
       "      <td>710</td>\n",
       "      <td>14.0</td>\n",
       "      <td>19070.0</td>\n",
       "    </tr>\n",
       "    <tr>\n",
       "      <th>2</th>\n",
       "      <td>2100.0</td>\n",
       "      <td>2100.00</td>\n",
       "      <td>14.33</td>\n",
       "      <td>36.0</td>\n",
       "      <td>3.50</td>\n",
       "      <td>1000.00</td>\n",
       "      <td>690</td>\n",
       "      <td>13.0</td>\n",
       "      <td>893.0</td>\n",
       "    </tr>\n",
       "    <tr>\n",
       "      <th>3</th>\n",
       "      <td>28000.0</td>\n",
       "      <td>28000.00</td>\n",
       "      <td>16.29</td>\n",
       "      <td>36.0</td>\n",
       "      <td>19.62</td>\n",
       "      <td>7083.33</td>\n",
       "      <td>710</td>\n",
       "      <td>12.0</td>\n",
       "      <td>38194.0</td>\n",
       "    </tr>\n",
       "    <tr>\n",
       "      <th>4</th>\n",
       "      <td>24250.0</td>\n",
       "      <td>17431.82</td>\n",
       "      <td>12.23</td>\n",
       "      <td>60.0</td>\n",
       "      <td>23.79</td>\n",
       "      <td>5833.33</td>\n",
       "      <td>730</td>\n",
       "      <td>6.0</td>\n",
       "      <td>31061.0</td>\n",
       "    </tr>\n",
       "    <tr>\n",
       "      <th>...</th>\n",
       "      <td>...</td>\n",
       "      <td>...</td>\n",
       "      <td>...</td>\n",
       "      <td>...</td>\n",
       "      <td>...</td>\n",
       "      <td>...</td>\n",
       "      <td>...</td>\n",
       "      <td>...</td>\n",
       "      <td>...</td>\n",
       "    </tr>\n",
       "    <tr>\n",
       "      <th>2195</th>\n",
       "      <td>30000.0</td>\n",
       "      <td>30000.00</td>\n",
       "      <td>23.28</td>\n",
       "      <td>60.0</td>\n",
       "      <td>12.10</td>\n",
       "      <td>7083.33</td>\n",
       "      <td>675</td>\n",
       "      <td>16.0</td>\n",
       "      <td>17969.0</td>\n",
       "    </tr>\n",
       "    <tr>\n",
       "      <th>2196</th>\n",
       "      <td>4200.0</td>\n",
       "      <td>4200.00</td>\n",
       "      <td>14.33</td>\n",
       "      <td>60.0</td>\n",
       "      <td>14.16</td>\n",
       "      <td>3850.00</td>\n",
       "      <td>700</td>\n",
       "      <td>4.0</td>\n",
       "      <td>5718.0</td>\n",
       "    </tr>\n",
       "    <tr>\n",
       "      <th>2197</th>\n",
       "      <td>19800.0</td>\n",
       "      <td>19775.00</td>\n",
       "      <td>15.31</td>\n",
       "      <td>60.0</td>\n",
       "      <td>15.03</td>\n",
       "      <td>6666.67</td>\n",
       "      <td>675</td>\n",
       "      <td>10.0</td>\n",
       "      <td>46879.0</td>\n",
       "    </tr>\n",
       "    <tr>\n",
       "      <th>2198</th>\n",
       "      <td>18000.0</td>\n",
       "      <td>18000.00</td>\n",
       "      <td>20.99</td>\n",
       "      <td>60.0</td>\n",
       "      <td>11.63</td>\n",
       "      <td>9051.83</td>\n",
       "      <td>670</td>\n",
       "      <td>5.0</td>\n",
       "      <td>32394.0</td>\n",
       "    </tr>\n",
       "    <tr>\n",
       "      <th>2199</th>\n",
       "      <td>7550.0</td>\n",
       "      <td>7550.00</td>\n",
       "      <td>10.16</td>\n",
       "      <td>36.0</td>\n",
       "      <td>3.83</td>\n",
       "      <td>8333.33</td>\n",
       "      <td>710</td>\n",
       "      <td>10.0</td>\n",
       "      <td>10204.0</td>\n",
       "    </tr>\n",
       "  </tbody>\n",
       "</table>\n",
       "<p>2200 rows × 9 columns</p>\n",
       "</div>"
      ],
      "text/plain": [
       "      Amount_Requested  Amount_Funded_By_Investors  Interest_Rate  \\\n",
       "0              25000.0                    25000.00          18.49   \n",
       "1              19750.0                    19750.00          17.27   \n",
       "2               2100.0                     2100.00          14.33   \n",
       "3              28000.0                    28000.00          16.29   \n",
       "4              24250.0                    17431.82          12.23   \n",
       "...                ...                         ...            ...   \n",
       "2195           30000.0                    30000.00          23.28   \n",
       "2196            4200.0                     4200.00          14.33   \n",
       "2197           19800.0                    19775.00          15.31   \n",
       "2198           18000.0                    18000.00          20.99   \n",
       "2199            7550.0                     7550.00          10.16   \n",
       "\n",
       "      Loan_Length  Debt_To_Income_Ratio  Monthly_Income FICO_Range  \\\n",
       "0            60.0                 27.56         8606.56        720   \n",
       "1            60.0                 13.39         6737.50        710   \n",
       "2            36.0                  3.50         1000.00        690   \n",
       "3            36.0                 19.62         7083.33        710   \n",
       "4            60.0                 23.79         5833.33        730   \n",
       "...           ...                   ...             ...        ...   \n",
       "2195         60.0                 12.10         7083.33        675   \n",
       "2196         60.0                 14.16         3850.00        700   \n",
       "2197         60.0                 15.03         6666.67        675   \n",
       "2198         60.0                 11.63         9051.83        670   \n",
       "2199         36.0                  3.83         8333.33        710   \n",
       "\n",
       "      Open_CREDIT_Lines  Revolving_CREDIT_Balance  \n",
       "0                  11.0                   15210.0  \n",
       "1                  14.0                   19070.0  \n",
       "2                  13.0                     893.0  \n",
       "3                  12.0                   38194.0  \n",
       "4                   6.0                   31061.0  \n",
       "...                 ...                       ...  \n",
       "2195               16.0                   17969.0  \n",
       "2196                4.0                    5718.0  \n",
       "2197               10.0                   46879.0  \n",
       "2198                5.0                   32394.0  \n",
       "2199               10.0                   10204.0  \n",
       "\n",
       "[2200 rows x 9 columns]"
      ]
     },
     "execution_count": 156,
     "metadata": {},
     "output_type": "execute_result"
    }
   ],
   "source": [
    "df['FICO_Range']=df['FICO_Range'].astype(str).str[:3]\n",
    "df"
   ]
  },
  {
   "cell_type": "code",
   "execution_count": 157,
   "id": "16981a68",
   "metadata": {},
   "outputs": [],
   "source": [
    "df['FICO_Range'] = df['FICO_Range'].astype(str).str[:3]\n",
    "df['FICO_Range'] =pd.to_numeric(df[\"FICO_Range\"],errors='coerce')\n",
    "\n",
    "ange = [0,669,739,799,859]\n",
    "labels = [\"Fair\", \"Good\", \"Very good\", \"Exceptional\"]\n",
    "\n",
    "\n",
    "df['FICO_Range_Category'] = pd.cut(df['FICO_Range'], bins=ange, labels=labels)"
   ]
  },
  {
   "cell_type": "code",
   "execution_count": 158,
   "id": "e7b629b9",
   "metadata": {},
   "outputs": [
    {
     "data": {
      "text/html": [
       "<div>\n",
       "<style scoped>\n",
       "    .dataframe tbody tr th:only-of-type {\n",
       "        vertical-align: middle;\n",
       "    }\n",
       "\n",
       "    .dataframe tbody tr th {\n",
       "        vertical-align: top;\n",
       "    }\n",
       "\n",
       "    .dataframe thead th {\n",
       "        text-align: right;\n",
       "    }\n",
       "</style>\n",
       "<table border=\"1\" class=\"dataframe\">\n",
       "  <thead>\n",
       "    <tr style=\"text-align: right;\">\n",
       "      <th></th>\n",
       "      <th>count</th>\n",
       "      <th>unique</th>\n",
       "      <th>top</th>\n",
       "      <th>freq</th>\n",
       "      <th>mean</th>\n",
       "      <th>std</th>\n",
       "      <th>min</th>\n",
       "      <th>25%</th>\n",
       "      <th>50%</th>\n",
       "      <th>75%</th>\n",
       "      <th>max</th>\n",
       "    </tr>\n",
       "  </thead>\n",
       "  <tbody>\n",
       "    <tr>\n",
       "      <th>Amount_Requested</th>\n",
       "      <td>2195.0</td>\n",
       "      <td>NaN</td>\n",
       "      <td>NaN</td>\n",
       "      <td>NaN</td>\n",
       "      <td>12496.469248</td>\n",
       "      <td>7856.983598</td>\n",
       "      <td>1000.0</td>\n",
       "      <td>6000.0</td>\n",
       "      <td>10000.0</td>\n",
       "      <td>17000.0</td>\n",
       "      <td>35000.0</td>\n",
       "    </tr>\n",
       "    <tr>\n",
       "      <th>Amount_Funded_By_Investors</th>\n",
       "      <td>2196.0</td>\n",
       "      <td>NaN</td>\n",
       "      <td>NaN</td>\n",
       "      <td>NaN</td>\n",
       "      <td>12077.803406</td>\n",
       "      <td>7775.331949</td>\n",
       "      <td>-0.01</td>\n",
       "      <td>6000.0</td>\n",
       "      <td>10000.0</td>\n",
       "      <td>16218.75</td>\n",
       "      <td>35000.0</td>\n",
       "    </tr>\n",
       "    <tr>\n",
       "      <th>Interest_Rate</th>\n",
       "      <td>2200.0</td>\n",
       "      <td>NaN</td>\n",
       "      <td>NaN</td>\n",
       "      <td>NaN</td>\n",
       "      <td>13.051218</td>\n",
       "      <td>4.173349</td>\n",
       "      <td>5.42</td>\n",
       "      <td>10.16</td>\n",
       "      <td>13.11</td>\n",
       "      <td>15.8</td>\n",
       "      <td>24.89</td>\n",
       "    </tr>\n",
       "    <tr>\n",
       "      <th>Loan_Length</th>\n",
       "      <td>2198.0</td>\n",
       "      <td>NaN</td>\n",
       "      <td>NaN</td>\n",
       "      <td>NaN</td>\n",
       "      <td>41.197452</td>\n",
       "      <td>9.887863</td>\n",
       "      <td>36.0</td>\n",
       "      <td>36.0</td>\n",
       "      <td>36.0</td>\n",
       "      <td>36.0</td>\n",
       "      <td>60.0</td>\n",
       "    </tr>\n",
       "    <tr>\n",
       "      <th>Debt_To_Income_Ratio</th>\n",
       "      <td>2199.0</td>\n",
       "      <td>NaN</td>\n",
       "      <td>NaN</td>\n",
       "      <td>NaN</td>\n",
       "      <td>15.371105</td>\n",
       "      <td>7.52048</td>\n",
       "      <td>0.0</td>\n",
       "      <td>9.735</td>\n",
       "      <td>15.22</td>\n",
       "      <td>20.675</td>\n",
       "      <td>34.91</td>\n",
       "    </tr>\n",
       "    <tr>\n",
       "      <th>Monthly_Income</th>\n",
       "      <td>2197.0</td>\n",
       "      <td>NaN</td>\n",
       "      <td>NaN</td>\n",
       "      <td>NaN</td>\n",
       "      <td>5727.45929</td>\n",
       "      <td>4073.529708</td>\n",
       "      <td>588.5</td>\n",
       "      <td>3458.0</td>\n",
       "      <td>5000.0</td>\n",
       "      <td>6883.33</td>\n",
       "      <td>102750.0</td>\n",
       "    </tr>\n",
       "    <tr>\n",
       "      <th>FICO_Range</th>\n",
       "      <td>2200.0</td>\n",
       "      <td>NaN</td>\n",
       "      <td>NaN</td>\n",
       "      <td>NaN</td>\n",
       "      <td>706.084091</td>\n",
       "      <td>35.263185</td>\n",
       "      <td>640.0</td>\n",
       "      <td>680.0</td>\n",
       "      <td>700.0</td>\n",
       "      <td>725.0</td>\n",
       "      <td>830.0</td>\n",
       "    </tr>\n",
       "    <tr>\n",
       "      <th>Open_CREDIT_Lines</th>\n",
       "      <td>2193.0</td>\n",
       "      <td>NaN</td>\n",
       "      <td>NaN</td>\n",
       "      <td>NaN</td>\n",
       "      <td>10.081623</td>\n",
       "      <td>4.497992</td>\n",
       "      <td>2.0</td>\n",
       "      <td>7.0</td>\n",
       "      <td>9.0</td>\n",
       "      <td>13.0</td>\n",
       "      <td>38.0</td>\n",
       "    </tr>\n",
       "    <tr>\n",
       "      <th>Revolving_CREDIT_Balance</th>\n",
       "      <td>2195.0</td>\n",
       "      <td>NaN</td>\n",
       "      <td>NaN</td>\n",
       "      <td>NaN</td>\n",
       "      <td>15335.575399</td>\n",
       "      <td>18720.803212</td>\n",
       "      <td>0.0</td>\n",
       "      <td>5600.5</td>\n",
       "      <td>11011.0</td>\n",
       "      <td>18835.5</td>\n",
       "      <td>270800.0</td>\n",
       "    </tr>\n",
       "    <tr>\n",
       "      <th>FICO_Range_Category</th>\n",
       "      <td>2200</td>\n",
       "      <td>4</td>\n",
       "      <td>Good</td>\n",
       "      <td>1547</td>\n",
       "      <td>NaN</td>\n",
       "      <td>NaN</td>\n",
       "      <td>NaN</td>\n",
       "      <td>NaN</td>\n",
       "      <td>NaN</td>\n",
       "      <td>NaN</td>\n",
       "      <td>NaN</td>\n",
       "    </tr>\n",
       "  </tbody>\n",
       "</table>\n",
       "</div>"
      ],
      "text/plain": [
       "                             count unique   top  freq          mean  \\\n",
       "Amount_Requested            2195.0    NaN   NaN   NaN  12496.469248   \n",
       "Amount_Funded_By_Investors  2196.0    NaN   NaN   NaN  12077.803406   \n",
       "Interest_Rate               2200.0    NaN   NaN   NaN     13.051218   \n",
       "Loan_Length                 2198.0    NaN   NaN   NaN     41.197452   \n",
       "Debt_To_Income_Ratio        2199.0    NaN   NaN   NaN     15.371105   \n",
       "Monthly_Income              2197.0    NaN   NaN   NaN    5727.45929   \n",
       "FICO_Range                  2200.0    NaN   NaN   NaN    706.084091   \n",
       "Open_CREDIT_Lines           2193.0    NaN   NaN   NaN     10.081623   \n",
       "Revolving_CREDIT_Balance    2195.0    NaN   NaN   NaN  15335.575399   \n",
       "FICO_Range_Category           2200      4  Good  1547           NaN   \n",
       "\n",
       "                                     std     min     25%      50%       75%  \\\n",
       "Amount_Requested             7856.983598  1000.0  6000.0  10000.0   17000.0   \n",
       "Amount_Funded_By_Investors   7775.331949   -0.01  6000.0  10000.0  16218.75   \n",
       "Interest_Rate                   4.173349    5.42   10.16    13.11      15.8   \n",
       "Loan_Length                     9.887863    36.0    36.0     36.0      36.0   \n",
       "Debt_To_Income_Ratio             7.52048     0.0   9.735    15.22    20.675   \n",
       "Monthly_Income               4073.529708   588.5  3458.0   5000.0   6883.33   \n",
       "FICO_Range                     35.263185   640.0   680.0    700.0     725.0   \n",
       "Open_CREDIT_Lines               4.497992     2.0     7.0      9.0      13.0   \n",
       "Revolving_CREDIT_Balance    18720.803212     0.0  5600.5  11011.0   18835.5   \n",
       "FICO_Range_Category                  NaN     NaN     NaN      NaN       NaN   \n",
       "\n",
       "                                 max  \n",
       "Amount_Requested             35000.0  \n",
       "Amount_Funded_By_Investors   35000.0  \n",
       "Interest_Rate                  24.89  \n",
       "Loan_Length                     60.0  \n",
       "Debt_To_Income_Ratio           34.91  \n",
       "Monthly_Income              102750.0  \n",
       "FICO_Range                     830.0  \n",
       "Open_CREDIT_Lines               38.0  \n",
       "Revolving_CREDIT_Balance    270800.0  \n",
       "FICO_Range_Category              NaN  "
      ]
     },
     "execution_count": 158,
     "metadata": {},
     "output_type": "execute_result"
    }
   ],
   "source": [
    "df.describe(include=\"all\").T"
   ]
  },
  {
   "cell_type": "code",
   "execution_count": 159,
   "id": "839c97a0",
   "metadata": {},
   "outputs": [
    {
     "data": {
      "text/plain": [
       "Amount_Requested              5\n",
       "Amount_Funded_By_Investors    4\n",
       "Interest_Rate                 0\n",
       "Loan_Length                   2\n",
       "Debt_To_Income_Ratio          1\n",
       "Monthly_Income                3\n",
       "FICO_Range                    0\n",
       "Open_CREDIT_Lines             7\n",
       "Revolving_CREDIT_Balance      5\n",
       "FICO_Range_Category           0\n",
       "dtype: int64"
      ]
     },
     "execution_count": 159,
     "metadata": {},
     "output_type": "execute_result"
    }
   ],
   "source": [
    "df.isnull().sum()"
   ]
  },
  {
   "cell_type": "code",
   "execution_count": 160,
   "id": "a738b18a",
   "metadata": {},
   "outputs": [],
   "source": [
    "df['Amount_Requested'] = df['Amount_Requested'].fillna(df['Amount_Requested'].median())  \n",
    "\n",
    "df['Amount_Funded_By_Investors'] = df['Amount_Funded_By_Investors'].fillna(df['Amount_Funded_By_Investors'].median())  \n",
    "\n",
    "df['Loan_Length'] = df['Loan_Length'].fillna(df['Loan_Length'].median())   \n",
    "\n",
    "df['Debt_To_Income_Ratio'] = df['Debt_To_Income_Ratio'].fillna(df['Debt_To_Income_Ratio'].median())  \n",
    "\n",
    "df['Monthly_Income'] = df['Monthly_Income'].fillna(df['Monthly_Income'].median())    \n",
    "\n",
    "df['Open_CREDIT_Lines'] = df['Open_CREDIT_Lines'].fillna(df['Open_CREDIT_Lines'].median())  \n",
    "\n",
    "df['Revolving_CREDIT_Balance'] = df['Revolving_CREDIT_Balance'].fillna(df['Revolving_CREDIT_Balance'].median())\n",
    "\n",
    "# Use the median to fill missing values when the variable has a skewed distribution or contains outliers. \n",
    "# The median is less sensitive to extreme values than the mean."
   ]
  },
  {
   "cell_type": "code",
   "execution_count": 161,
   "id": "5a7081b1",
   "metadata": {},
   "outputs": [
    {
     "data": {
      "text/plain": [
       "Amount_Requested              0\n",
       "Amount_Funded_By_Investors    0\n",
       "Interest_Rate                 0\n",
       "Loan_Length                   0\n",
       "Debt_To_Income_Ratio          0\n",
       "Monthly_Income                0\n",
       "FICO_Range                    0\n",
       "Open_CREDIT_Lines             0\n",
       "Revolving_CREDIT_Balance      0\n",
       "FICO_Range_Category           0\n",
       "dtype: int64"
      ]
     },
     "execution_count": 161,
     "metadata": {},
     "output_type": "execute_result"
    }
   ],
   "source": [
    "df.isnull().sum()"
   ]
  },
  {
   "cell_type": "code",
   "execution_count": 162,
   "id": "3ab4b765",
   "metadata": {},
   "outputs": [
    {
     "data": {
      "text/plain": [
       "<Axes: xlabel='Loan_Length', ylabel='Interest_Rate'>"
      ]
     },
     "execution_count": 162,
     "metadata": {},
     "output_type": "execute_result"
    },
    {
     "data": {
      "image/png": "[encoded data removed]",
      "text/plain": [
       "<Figure size 640x480 with 1 Axes>"
      ]
     },
     "metadata": {},
     "output_type": "display_data"
    }
   ],
   "source": [
    "result = df.groupby('Loan_Length')['Interest_Rate'].mean().reset_index()\n",
    "result\n",
    "sns.barplot(x='Loan_Length', y='Interest_Rate', data=result)\n",
    "\n",
    "\n",
    "#considering loan length of 36 have an average intrest rate of 12.12 % ,\n",
    "#whereas loan length of 60 has an average intrest rate of 16.42%"
   ]
  },
  {
   "cell_type": "code",
   "execution_count": 163,
   "id": "e05b1a8b",
   "metadata": {},
   "outputs": [
    {
     "data": {
      "text/plain": [
       "<Axes: xlabel='Amount_Requested', ylabel='Density'>"
      ]
     },
     "execution_count": 163,
     "metadata": {},
     "output_type": "execute_result"
    },
    {
     "data": {
      "image/png": "[encoded data removed]",
      "text/plain": [
       "<Figure size 640x480 with 1 Axes>"
      ]
     },
     "metadata": {},
     "output_type": "display_data"
    }
   ],
   "source": [
    "# Amount_Requested\n",
    "sns.distplot(df.Amount_Requested)\n",
    "\n",
    "# maximum amount requested lies in the range between  3000 to 15000\n",
    "# from 15000 requested amount the density is evenly descreasing "
   ]
  },
  {
   "cell_type": "code",
   "execution_count": 165,
   "id": "41b569ad",
   "metadata": {},
   "outputs": [
    {
     "data": {
      "text/plain": [
       "<Axes: xlabel='Debt_To_Income_Ratio', ylabel='Revolving_CREDIT_Balance'>"
      ]
     },
     "execution_count": 165,
     "metadata": {},
     "output_type": "execute_result"
    },
    {
     "data": {
      "image/png": "[encoded data removed]",
      "text/plain": [
       "<Figure size 640x480 with 1 Axes>"
      ]
     },
     "metadata": {},
     "output_type": "display_data"
    }
   ],
   "source": [
    "sns.scatterplot(x='Debt_To_Income_Ratio',y='Revolving_CREDIT_Balance', data=df)\n",
    "\n",
    "\n",
    "#The scatter plot shows that there is a positive correlation between debt to income ratio and revolving credit balance.\n",
    "#This means that as debt to income ratio increases,\n",
    "#revolving credit balance also tends to increase"
   ]
  },
  {
   "cell_type": "code",
   "execution_count": 166,
   "id": "cc415ba0",
   "metadata": {},
   "outputs": [
    {
     "data": {
      "text/plain": [
       "<Axes: xlabel='Amount_Funded_By_Investors', ylabel='Density'>"
      ]
     },
     "execution_count": 166,
     "metadata": {},
     "output_type": "execute_result"
    },
    {
     "data": {
      "image/png": "[encoded data removed]",
      "text/plain": [
       "<Figure size 640x480 with 1 Axes>"
      ]
     },
     "metadata": {},
     "output_type": "display_data"
    }
   ],
   "source": [
    "# Amount_Funded_By_Investors \n",
    "sns.distplot(df.Amount_Funded_By_Investors)\n",
    "\n",
    "#Although the highest amount requested was 3000 to 12000 , and\n",
    "#the maximum amount funded by investor in between range of 7000 to 14000"
   ]
  },
  {
   "cell_type": "code",
   "execution_count": 168,
   "id": "77e76297",
   "metadata": {},
   "outputs": [
    {
     "data": {
      "text/plain": [
       "<Axes: xlabel='Interest_Rate', ylabel='Density'>"
      ]
     },
     "execution_count": 168,
     "metadata": {},
     "output_type": "execute_result"
    },
    {
     "data": {
      "image/png": "[encoded data removed]",
      "text/plain": [
       "<Figure size 640x480 with 1 Axes>"
      ]
     },
     "metadata": {},
     "output_type": "display_data"
    }
   ],
   "source": [
    "# Interest_Rate\n",
    "\n",
    "sns.distplot(df.Interest_Rate)\n",
    "\n",
    "\n",
    "# The Maximum intrest rate charged by investors is in range of 11 to 15 %"
   ]
  },
  {
   "cell_type": "code",
   "execution_count": 169,
   "id": "bb816aab",
   "metadata": {},
   "outputs": [
    {
     "data": {
      "text/plain": [
       "<Axes: >"
      ]
     },
     "execution_count": 169,
     "metadata": {},
     "output_type": "execute_result"
    },
    {
     "data": {
      "image/png": "[encoded data removed]",
      "text/plain": [
       "<Figure size 640x480 with 1 Axes>"
      ]
     },
     "metadata": {},
     "output_type": "display_data"
    }
   ],
   "source": [
    "sns.boxplot(df.Interest_Rate)"
   ]
  },
  {
   "cell_type": "code",
   "execution_count": 83,
   "id": "bef504ed",
   "metadata": {},
   "outputs": [
    {
     "data": {
      "text/plain": [
       "<Axes: xlabel='Loan_Length', ylabel='count'>"
      ]
     },
     "execution_count": 83,
     "metadata": {},
     "output_type": "execute_result"
    },
    {
     "data": {
      "image/png": "[encoded data removed]",
      "text/plain": [
       "<Figure size 640x480 with 1 Axes>"
      ]
     },
     "metadata": {},
     "output_type": "display_data"
    }
   ],
   "source": [
    "sns.countplot(x='Loan_Length',data=df)\n",
    "\n",
    "# the maximum loan time period provided is for 36 moths , whereas very low count of people opted for 60 months loan  length "
   ]
  },
  {
   "cell_type": "code",
   "execution_count": 171,
   "id": "89d2410c",
   "metadata": {},
   "outputs": [
    {
     "data": {
      "text/plain": [
       "<Axes: xlabel='Debt_To_Income_Ratio', ylabel='Density'>"
      ]
     },
     "execution_count": 171,
     "metadata": {},
     "output_type": "execute_result"
    },
    {
     "data": {
      "image/png": "[encoded data removed]",
      "text/plain": [
       "<Figure size 640x480 with 1 Axes>"
      ]
     },
     "metadata": {},
     "output_type": "display_data"
    }
   ],
   "source": [
    "# Debt_To_Income_Ratio\n",
    "\n",
    "sns.distplot(df.Debt_To_Income_Ratio)"
   ]
  },
  {
   "cell_type": "code",
   "execution_count": 172,
   "id": "a902f860",
   "metadata": {},
   "outputs": [
    {
     "data": {
      "text/plain": [
       "<Axes: >"
      ]
     },
     "execution_count": 172,
     "metadata": {},
     "output_type": "execute_result"
    },
    {
     "data": {
      "image/png": "[encoded data removed]",
      "text/plain": [
       "<Figure size 640x480 with 1 Axes>"
      ]
     },
     "metadata": {},
     "output_type": "display_data"
    }
   ],
   "source": [
    "sns.boxplot(df.Debt_To_Income_Ratio)"
   ]
  },
  {
   "cell_type": "code",
   "execution_count": 173,
   "id": "2eec557c",
   "metadata": {},
   "outputs": [
    {
     "data": {
      "text/plain": [
       "<Axes: xlabel='Monthly_Income', ylabel='Density'>"
      ]
     },
     "execution_count": 173,
     "metadata": {},
     "output_type": "execute_result"
    },
    {
     "data": {
      "image/png": "[encoded data removed]",
      "text/plain": [
       "<Figure size 640x480 with 1 Axes>"
      ]
     },
     "metadata": {},
     "output_type": "display_data"
    }
   ],
   "source": [
    "# Monthly_Income\n",
    "\n",
    "sns.distplot(df.Monthly_Income)\n",
    "\n",
    "\n",
    "# there are lot of people with incomes between 1000 to 20000\n",
    "# there are fewer people with income between 20000 to 100000"
   ]
  },
  {
   "cell_type": "code",
   "execution_count": 174,
   "id": "17e74d40",
   "metadata": {},
   "outputs": [
    {
     "data": {
      "text/plain": [
       "<Axes: xlabel='Open_CREDIT_Lines', ylabel='Density'>"
      ]
     },
     "execution_count": 174,
     "metadata": {},
     "output_type": "execute_result"
    },
    {
     "data": {
      "image/png": "[encoded data removed]",
      "text/plain": [
       "<Figure size 640x480 with 1 Axes>"
      ]
     },
     "metadata": {},
     "output_type": "display_data"
    }
   ],
   "source": [
    "# Open_CREDIT_Lines\n",
    "\n",
    "sns.distplot(df.Open_CREDIT_Lines)"
   ]
  },
  {
   "cell_type": "code",
   "execution_count": 177,
   "id": "8034d6d1",
   "metadata": {},
   "outputs": [
    {
     "data": {
      "text/plain": [
       "<Axes: >"
      ]
     },
     "execution_count": 177,
     "metadata": {},
     "output_type": "execute_result"
    },
    {
     "data": {
      "image/png": "[encoded data removed]",
      "text/plain": [
       "<Figure size 640x480 with 2 Axes>"
      ]
     },
     "metadata": {},
     "output_type": "display_data"
    }
   ],
   "source": [
    "sns.heatmap(df.corr(),annot=True)\n",
    "\n",
    "#strong positive correlation high  value tends to inscrease or decrease value \n",
    "# strong negative correlation low value indicate inverse relationship"
   ]
  },
  {
   "cell_type": "markdown",
   "id": "ca081793",
   "metadata": {},
   "source": [
    "# data preparation"
   ]
  },
  {
   "cell_type": "code",
   "execution_count": 178,
   "id": "5f382588",
   "metadata": {},
   "outputs": [],
   "source": [
    "df['Interest_Rate_norm'] = np.log(df.Interest_Rate)\n",
    "# taking the logarithm can help make the distribution more symmetrical"
   ]
  },
  {
   "cell_type": "code",
   "execution_count": 179,
   "id": "b60469d1",
   "metadata": {},
   "outputs": [
    {
     "data": {
      "text/plain": [
       "<Axes: xlabel='Interest_Rate_norm', ylabel='Density'>"
      ]
     },
     "execution_count": 179,
     "metadata": {},
     "output_type": "execute_result"
    },
    {
     "data": {
      "image/png": "[encoded data removed]",
      "text/plain": [
       "<Figure size 640x480 with 1 Axes>"
      ]
     },
     "metadata": {},
     "output_type": "display_data"
    }
   ],
   "source": [
    "sns.distplot(df.Interest_Rate_norm)"
   ]
  },
  {
   "cell_type": "code",
   "execution_count": 180,
   "id": "6d9ec462",
   "metadata": {},
   "outputs": [
    {
     "data": {
      "text/plain": [
       "<Axes: >"
      ]
     },
     "execution_count": 180,
     "metadata": {},
     "output_type": "execute_result"
    },
    {
     "data": {
      "image/png": "[encoded data removed]",
      "text/plain": [
       "<Figure size 640x480 with 1 Axes>"
      ]
     },
     "metadata": {},
     "output_type": "display_data"
    }
   ],
   "source": [
    "sns.boxplot(df.Interest_Rate_norm)"
   ]
  },
  {
   "cell_type": "code",
   "execution_count": 181,
   "id": "80291e87",
   "metadata": {},
   "outputs": [],
   "source": [
    "# creating independent variable and dependent variable "
   ]
  },
  {
   "cell_type": "code",
   "execution_count": 182,
   "id": "a418ca06",
   "metadata": {},
   "outputs": [],
   "source": [
    "x=df.drop(['Interest_Rate_norm','Interest_Rate'],axis=1)\n",
    "y= df[['Interest_Rate']]"
   ]
  },
  {
   "cell_type": "code",
   "execution_count": 103,
   "id": "81b6733a",
   "metadata": {},
   "outputs": [
    {
     "data": {
      "text/html": [
       "<div>\n",
       "<style scoped>\n",
       "    .dataframe tbody tr th:only-of-type {\n",
       "        vertical-align: middle;\n",
       "    }\n",
       "\n",
       "    .dataframe tbody tr th {\n",
       "        vertical-align: top;\n",
       "    }\n",
       "\n",
       "    .dataframe thead th {\n",
       "        text-align: right;\n",
       "    }\n",
       "</style>\n",
       "<table border=\"1\" class=\"dataframe\">\n",
       "  <thead>\n",
       "    <tr style=\"text-align: right;\">\n",
       "      <th></th>\n",
       "      <th>Amount_Requested</th>\n",
       "      <th>Amount_Funded_By_Investors</th>\n",
       "      <th>Loan_Length</th>\n",
       "      <th>Debt_To_Income_Ratio</th>\n",
       "      <th>Monthly_Income</th>\n",
       "      <th>FICO_Range</th>\n",
       "      <th>Open_CREDIT_Lines</th>\n",
       "      <th>Revolving_CREDIT_Balance</th>\n",
       "      <th>FICO_Range_Category_Good</th>\n",
       "      <th>FICO_Range_Category_Very good</th>\n",
       "      <th>FICO_Range_Category_Exceptional</th>\n",
       "    </tr>\n",
       "  </thead>\n",
       "  <tbody>\n",
       "    <tr>\n",
       "      <th>0</th>\n",
       "      <td>25000.0</td>\n",
       "      <td>25000.00</td>\n",
       "      <td>60.0</td>\n",
       "      <td>27.56</td>\n",
       "      <td>8606.56</td>\n",
       "      <td>720</td>\n",
       "      <td>11.0</td>\n",
       "      <td>15210.0</td>\n",
       "      <td>1</td>\n",
       "      <td>0</td>\n",
       "      <td>0</td>\n",
       "    </tr>\n",
       "    <tr>\n",
       "      <th>1</th>\n",
       "      <td>19750.0</td>\n",
       "      <td>19750.00</td>\n",
       "      <td>60.0</td>\n",
       "      <td>13.39</td>\n",
       "      <td>6737.50</td>\n",
       "      <td>710</td>\n",
       "      <td>14.0</td>\n",
       "      <td>19070.0</td>\n",
       "      <td>1</td>\n",
       "      <td>0</td>\n",
       "      <td>0</td>\n",
       "    </tr>\n",
       "    <tr>\n",
       "      <th>2</th>\n",
       "      <td>2100.0</td>\n",
       "      <td>2100.00</td>\n",
       "      <td>36.0</td>\n",
       "      <td>3.50</td>\n",
       "      <td>1000.00</td>\n",
       "      <td>690</td>\n",
       "      <td>13.0</td>\n",
       "      <td>893.0</td>\n",
       "      <td>1</td>\n",
       "      <td>0</td>\n",
       "      <td>0</td>\n",
       "    </tr>\n",
       "    <tr>\n",
       "      <th>3</th>\n",
       "      <td>28000.0</td>\n",
       "      <td>28000.00</td>\n",
       "      <td>36.0</td>\n",
       "      <td>19.62</td>\n",
       "      <td>7083.33</td>\n",
       "      <td>710</td>\n",
       "      <td>12.0</td>\n",
       "      <td>38194.0</td>\n",
       "      <td>1</td>\n",
       "      <td>0</td>\n",
       "      <td>0</td>\n",
       "    </tr>\n",
       "    <tr>\n",
       "      <th>4</th>\n",
       "      <td>24250.0</td>\n",
       "      <td>17431.82</td>\n",
       "      <td>60.0</td>\n",
       "      <td>23.79</td>\n",
       "      <td>5833.33</td>\n",
       "      <td>730</td>\n",
       "      <td>6.0</td>\n",
       "      <td>31061.0</td>\n",
       "      <td>1</td>\n",
       "      <td>0</td>\n",
       "      <td>0</td>\n",
       "    </tr>\n",
       "    <tr>\n",
       "      <th>...</th>\n",
       "      <td>...</td>\n",
       "      <td>...</td>\n",
       "      <td>...</td>\n",
       "      <td>...</td>\n",
       "      <td>...</td>\n",
       "      <td>...</td>\n",
       "      <td>...</td>\n",
       "      <td>...</td>\n",
       "      <td>...</td>\n",
       "      <td>...</td>\n",
       "      <td>...</td>\n",
       "    </tr>\n",
       "    <tr>\n",
       "      <th>2195</th>\n",
       "      <td>30000.0</td>\n",
       "      <td>30000.00</td>\n",
       "      <td>60.0</td>\n",
       "      <td>12.10</td>\n",
       "      <td>7083.33</td>\n",
       "      <td>675</td>\n",
       "      <td>16.0</td>\n",
       "      <td>17969.0</td>\n",
       "      <td>1</td>\n",
       "      <td>0</td>\n",
       "      <td>0</td>\n",
       "    </tr>\n",
       "    <tr>\n",
       "      <th>2196</th>\n",
       "      <td>4200.0</td>\n",
       "      <td>4200.00</td>\n",
       "      <td>60.0</td>\n",
       "      <td>14.16</td>\n",
       "      <td>3850.00</td>\n",
       "      <td>700</td>\n",
       "      <td>4.0</td>\n",
       "      <td>5718.0</td>\n",
       "      <td>1</td>\n",
       "      <td>0</td>\n",
       "      <td>0</td>\n",
       "    </tr>\n",
       "    <tr>\n",
       "      <th>2197</th>\n",
       "      <td>19800.0</td>\n",
       "      <td>19775.00</td>\n",
       "      <td>60.0</td>\n",
       "      <td>15.03</td>\n",
       "      <td>6666.67</td>\n",
       "      <td>675</td>\n",
       "      <td>10.0</td>\n",
       "      <td>46879.0</td>\n",
       "      <td>1</td>\n",
       "      <td>0</td>\n",
       "      <td>0</td>\n",
       "    </tr>\n",
       "    <tr>\n",
       "      <th>2198</th>\n",
       "      <td>18000.0</td>\n",
       "      <td>18000.00</td>\n",
       "      <td>60.0</td>\n",
       "      <td>11.63</td>\n",
       "      <td>9051.83</td>\n",
       "      <td>670</td>\n",
       "      <td>5.0</td>\n",
       "      <td>32394.0</td>\n",
       "      <td>1</td>\n",
       "      <td>0</td>\n",
       "      <td>0</td>\n",
       "    </tr>\n",
       "    <tr>\n",
       "      <th>2199</th>\n",
       "      <td>7550.0</td>\n",
       "      <td>7550.00</td>\n",
       "      <td>36.0</td>\n",
       "      <td>3.83</td>\n",
       "      <td>8333.33</td>\n",
       "      <td>710</td>\n",
       "      <td>10.0</td>\n",
       "      <td>10204.0</td>\n",
       "      <td>1</td>\n",
       "      <td>0</td>\n",
       "      <td>0</td>\n",
       "    </tr>\n",
       "  </tbody>\n",
       "</table>\n",
       "<p>2200 rows × 11 columns</p>\n",
       "</div>"
      ],
      "text/plain": [
       "      Amount_Requested  Amount_Funded_By_Investors  Loan_Length  \\\n",
       "0              25000.0                    25000.00         60.0   \n",
       "1              19750.0                    19750.00         60.0   \n",
       "2               2100.0                     2100.00         36.0   \n",
       "3              28000.0                    28000.00         36.0   \n",
       "4              24250.0                    17431.82         60.0   \n",
       "...                ...                         ...          ...   \n",
       "2195           30000.0                    30000.00         60.0   \n",
       "2196            4200.0                     4200.00         60.0   \n",
       "2197           19800.0                    19775.00         60.0   \n",
       "2198           18000.0                    18000.00         60.0   \n",
       "2199            7550.0                     7550.00         36.0   \n",
       "\n",
       "      Debt_To_Income_Ratio  Monthly_Income  FICO_Range  Open_CREDIT_Lines  \\\n",
       "0                    27.56         8606.56         720               11.0   \n",
       "1                    13.39         6737.50         710               14.0   \n",
       "2                     3.50         1000.00         690               13.0   \n",
       "3                    19.62         7083.33         710               12.0   \n",
       "4                    23.79         5833.33         730                6.0   \n",
       "...                    ...             ...         ...                ...   \n",
       "2195                 12.10         7083.33         675               16.0   \n",
       "2196                 14.16         3850.00         700                4.0   \n",
       "2197                 15.03         6666.67         675               10.0   \n",
       "2198                 11.63         9051.83         670                5.0   \n",
       "2199                  3.83         8333.33         710               10.0   \n",
       "\n",
       "      Revolving_CREDIT_Balance  FICO_Range_Category_Good  \\\n",
       "0                      15210.0                         1   \n",
       "1                      19070.0                         1   \n",
       "2                        893.0                         1   \n",
       "3                      38194.0                         1   \n",
       "4                      31061.0                         1   \n",
       "...                        ...                       ...   \n",
       "2195                   17969.0                         1   \n",
       "2196                    5718.0                         1   \n",
       "2197                   46879.0                         1   \n",
       "2198                   32394.0                         1   \n",
       "2199                   10204.0                         1   \n",
       "\n",
       "      FICO_Range_Category_Very good  FICO_Range_Category_Exceptional  \n",
       "0                                 0                                0  \n",
       "1                                 0                                0  \n",
       "2                                 0                                0  \n",
       "3                                 0                                0  \n",
       "4                                 0                                0  \n",
       "...                             ...                              ...  \n",
       "2195                              0                                0  \n",
       "2196                              0                                0  \n",
       "2197                              0                                0  \n",
       "2198                              0                                0  \n",
       "2199                              0                                0  \n",
       "\n",
       "[2200 rows x 11 columns]"
      ]
     },
     "execution_count": 103,
     "metadata": {},
     "output_type": "execute_result"
    }
   ],
   "source": [
    "x=pd.get_dummies(x,columns=['FICO_Range_Category'],drop_first=True)\n",
    "x"
   ]
  },
  {
   "cell_type": "code",
   "execution_count": 104,
   "id": "b7c7f161",
   "metadata": {},
   "outputs": [],
   "source": [
    "from sklearn.model_selection import train_test_split\n",
    "\n",
    "X_train,X_test,y_train,y_test = train_test_split(x,y,test_size = 0.2,random_state = 56)"
   ]
  },
  {
   "cell_type": "code",
   "execution_count": 105,
   "id": "62ce75a6",
   "metadata": {},
   "outputs": [
    {
     "data": {
      "text/html": [
       "<div>\n",
       "<style scoped>\n",
       "    .dataframe tbody tr th:only-of-type {\n",
       "        vertical-align: middle;\n",
       "    }\n",
       "\n",
       "    .dataframe tbody tr th {\n",
       "        vertical-align: top;\n",
       "    }\n",
       "\n",
       "    .dataframe thead th {\n",
       "        text-align: right;\n",
       "    }\n",
       "</style>\n",
       "<table border=\"1\" class=\"dataframe\">\n",
       "  <thead>\n",
       "    <tr style=\"text-align: right;\">\n",
       "      <th></th>\n",
       "      <th>Amount_Requested</th>\n",
       "      <th>Amount_Funded_By_Investors</th>\n",
       "      <th>Loan_Length</th>\n",
       "      <th>Debt_To_Income_Ratio</th>\n",
       "      <th>Monthly_Income</th>\n",
       "      <th>FICO_Range</th>\n",
       "      <th>Open_CREDIT_Lines</th>\n",
       "      <th>Revolving_CREDIT_Balance</th>\n",
       "      <th>FICO_Range_Category_Good</th>\n",
       "      <th>FICO_Range_Category_Very good</th>\n",
       "      <th>FICO_Range_Category_Exceptional</th>\n",
       "    </tr>\n",
       "  </thead>\n",
       "  <tbody>\n",
       "    <tr>\n",
       "      <th>1888</th>\n",
       "      <td>17500.0</td>\n",
       "      <td>17500.0</td>\n",
       "      <td>60.0</td>\n",
       "      <td>1.78</td>\n",
       "      <td>4166.67</td>\n",
       "      <td>685</td>\n",
       "      <td>7.0</td>\n",
       "      <td>3377.0</td>\n",
       "      <td>1</td>\n",
       "      <td>0</td>\n",
       "      <td>0</td>\n",
       "    </tr>\n",
       "    <tr>\n",
       "      <th>831</th>\n",
       "      <td>9500.0</td>\n",
       "      <td>9500.0</td>\n",
       "      <td>36.0</td>\n",
       "      <td>16.01</td>\n",
       "      <td>4500.00</td>\n",
       "      <td>660</td>\n",
       "      <td>7.0</td>\n",
       "      <td>3673.0</td>\n",
       "      <td>0</td>\n",
       "      <td>0</td>\n",
       "      <td>0</td>\n",
       "    </tr>\n",
       "    <tr>\n",
       "      <th>526</th>\n",
       "      <td>30075.0</td>\n",
       "      <td>30050.0</td>\n",
       "      <td>60.0</td>\n",
       "      <td>21.54</td>\n",
       "      <td>5083.33</td>\n",
       "      <td>680</td>\n",
       "      <td>17.0</td>\n",
       "      <td>20976.0</td>\n",
       "      <td>1</td>\n",
       "      <td>0</td>\n",
       "      <td>0</td>\n",
       "    </tr>\n",
       "    <tr>\n",
       "      <th>1604</th>\n",
       "      <td>20800.0</td>\n",
       "      <td>20775.0</td>\n",
       "      <td>36.0</td>\n",
       "      <td>21.77</td>\n",
       "      <td>11666.67</td>\n",
       "      <td>790</td>\n",
       "      <td>6.0</td>\n",
       "      <td>682.0</td>\n",
       "      <td>0</td>\n",
       "      <td>1</td>\n",
       "      <td>0</td>\n",
       "    </tr>\n",
       "    <tr>\n",
       "      <th>121</th>\n",
       "      <td>25000.0</td>\n",
       "      <td>24975.0</td>\n",
       "      <td>36.0</td>\n",
       "      <td>14.72</td>\n",
       "      <td>7301.58</td>\n",
       "      <td>670</td>\n",
       "      <td>18.0</td>\n",
       "      <td>21675.0</td>\n",
       "      <td>1</td>\n",
       "      <td>0</td>\n",
       "      <td>0</td>\n",
       "    </tr>\n",
       "  </tbody>\n",
       "</table>\n",
       "</div>"
      ],
      "text/plain": [
       "      Amount_Requested  Amount_Funded_By_Investors  Loan_Length  \\\n",
       "1888           17500.0                     17500.0         60.0   \n",
       "831             9500.0                      9500.0         36.0   \n",
       "526            30075.0                     30050.0         60.0   \n",
       "1604           20800.0                     20775.0         36.0   \n",
       "121            25000.0                     24975.0         36.0   \n",
       "\n",
       "      Debt_To_Income_Ratio  Monthly_Income  FICO_Range  Open_CREDIT_Lines  \\\n",
       "1888                  1.78         4166.67         685                7.0   \n",
       "831                  16.01         4500.00         660                7.0   \n",
       "526                  21.54         5083.33         680               17.0   \n",
       "1604                 21.77        11666.67         790                6.0   \n",
       "121                  14.72         7301.58         670               18.0   \n",
       "\n",
       "      Revolving_CREDIT_Balance  FICO_Range_Category_Good  \\\n",
       "1888                    3377.0                         1   \n",
       "831                     3673.0                         0   \n",
       "526                    20976.0                         1   \n",
       "1604                     682.0                         0   \n",
       "121                    21675.0                         1   \n",
       "\n",
       "      FICO_Range_Category_Very good  FICO_Range_Category_Exceptional  \n",
       "1888                              0                                0  \n",
       "831                               0                                0  \n",
       "526                               0                                0  \n",
       "1604                              1                                0  \n",
       "121                               0                                0  "
      ]
     },
     "execution_count": 105,
     "metadata": {},
     "output_type": "execute_result"
    }
   ],
   "source": [
    "X_train.head()"
   ]
  },
  {
   "cell_type": "code",
   "execution_count": 106,
   "id": "0a33b42c",
   "metadata": {},
   "outputs": [
    {
     "data": {
      "text/html": [
       "<div>\n",
       "<style scoped>\n",
       "    .dataframe tbody tr th:only-of-type {\n",
       "        vertical-align: middle;\n",
       "    }\n",
       "\n",
       "    .dataframe tbody tr th {\n",
       "        vertical-align: top;\n",
       "    }\n",
       "\n",
       "    .dataframe thead th {\n",
       "        text-align: right;\n",
       "    }\n",
       "</style>\n",
       "<table border=\"1\" class=\"dataframe\">\n",
       "  <thead>\n",
       "    <tr style=\"text-align: right;\">\n",
       "      <th></th>\n",
       "      <th>Amount_Requested</th>\n",
       "      <th>Amount_Funded_By_Investors</th>\n",
       "      <th>Loan_Length</th>\n",
       "      <th>Debt_To_Income_Ratio</th>\n",
       "      <th>Monthly_Income</th>\n",
       "      <th>FICO_Range</th>\n",
       "      <th>Open_CREDIT_Lines</th>\n",
       "      <th>Revolving_CREDIT_Balance</th>\n",
       "      <th>FICO_Range_Category_Good</th>\n",
       "      <th>FICO_Range_Category_Very good</th>\n",
       "      <th>FICO_Range_Category_Exceptional</th>\n",
       "    </tr>\n",
       "  </thead>\n",
       "  <tbody>\n",
       "    <tr>\n",
       "      <th>325</th>\n",
       "      <td>7000.0</td>\n",
       "      <td>7000.00</td>\n",
       "      <td>36.0</td>\n",
       "      <td>8.02</td>\n",
       "      <td>6000.00</td>\n",
       "      <td>690</td>\n",
       "      <td>5.0</td>\n",
       "      <td>6623.0</td>\n",
       "      <td>1</td>\n",
       "      <td>0</td>\n",
       "      <td>0</td>\n",
       "    </tr>\n",
       "    <tr>\n",
       "      <th>756</th>\n",
       "      <td>10625.0</td>\n",
       "      <td>10625.00</td>\n",
       "      <td>36.0</td>\n",
       "      <td>12.54</td>\n",
       "      <td>4250.00</td>\n",
       "      <td>665</td>\n",
       "      <td>14.0</td>\n",
       "      <td>10767.0</td>\n",
       "      <td>0</td>\n",
       "      <td>0</td>\n",
       "      <td>0</td>\n",
       "    </tr>\n",
       "    <tr>\n",
       "      <th>331</th>\n",
       "      <td>8500.0</td>\n",
       "      <td>6727.42</td>\n",
       "      <td>36.0</td>\n",
       "      <td>14.68</td>\n",
       "      <td>5000.00</td>\n",
       "      <td>680</td>\n",
       "      <td>9.0</td>\n",
       "      <td>0.0</td>\n",
       "      <td>1</td>\n",
       "      <td>0</td>\n",
       "      <td>0</td>\n",
       "    </tr>\n",
       "    <tr>\n",
       "      <th>1448</th>\n",
       "      <td>4800.0</td>\n",
       "      <td>4800.00</td>\n",
       "      <td>36.0</td>\n",
       "      <td>23.95</td>\n",
       "      <td>3750.00</td>\n",
       "      <td>710</td>\n",
       "      <td>19.0</td>\n",
       "      <td>114509.0</td>\n",
       "      <td>1</td>\n",
       "      <td>0</td>\n",
       "      <td>0</td>\n",
       "    </tr>\n",
       "    <tr>\n",
       "      <th>845</th>\n",
       "      <td>5500.0</td>\n",
       "      <td>5500.00</td>\n",
       "      <td>36.0</td>\n",
       "      <td>32.16</td>\n",
       "      <td>1666.67</td>\n",
       "      <td>690</td>\n",
       "      <td>7.0</td>\n",
       "      <td>8826.0</td>\n",
       "      <td>1</td>\n",
       "      <td>0</td>\n",
       "      <td>0</td>\n",
       "    </tr>\n",
       "  </tbody>\n",
       "</table>\n",
       "</div>"
      ],
      "text/plain": [
       "      Amount_Requested  Amount_Funded_By_Investors  Loan_Length  \\\n",
       "325             7000.0                     7000.00         36.0   \n",
       "756            10625.0                    10625.00         36.0   \n",
       "331             8500.0                     6727.42         36.0   \n",
       "1448            4800.0                     4800.00         36.0   \n",
       "845             5500.0                     5500.00         36.0   \n",
       "\n",
       "      Debt_To_Income_Ratio  Monthly_Income  FICO_Range  Open_CREDIT_Lines  \\\n",
       "325                   8.02         6000.00         690                5.0   \n",
       "756                  12.54         4250.00         665               14.0   \n",
       "331                  14.68         5000.00         680                9.0   \n",
       "1448                 23.95         3750.00         710               19.0   \n",
       "845                  32.16         1666.67         690                7.0   \n",
       "\n",
       "      Revolving_CREDIT_Balance  FICO_Range_Category_Good  \\\n",
       "325                     6623.0                         1   \n",
       "756                    10767.0                         0   \n",
       "331                        0.0                         1   \n",
       "1448                  114509.0                         1   \n",
       "845                     8826.0                         1   \n",
       "\n",
       "      FICO_Range_Category_Very good  FICO_Range_Category_Exceptional  \n",
       "325                               0                                0  \n",
       "756                               0                                0  \n",
       "331                               0                                0  \n",
       "1448                              0                                0  \n",
       "845                               0                                0  "
      ]
     },
     "execution_count": 106,
     "metadata": {},
     "output_type": "execute_result"
    }
   ],
   "source": [
    "X_test.head()"
   ]
  },
  {
   "cell_type": "code",
   "execution_count": 107,
   "id": "4c24f62d",
   "metadata": {},
   "outputs": [
    {
     "data": {
      "text/html": [
       "<div>\n",
       "<style scoped>\n",
       "    .dataframe tbody tr th:only-of-type {\n",
       "        vertical-align: middle;\n",
       "    }\n",
       "\n",
       "    .dataframe tbody tr th {\n",
       "        vertical-align: top;\n",
       "    }\n",
       "\n",
       "    .dataframe thead th {\n",
       "        text-align: right;\n",
       "    }\n",
       "</style>\n",
       "<table border=\"1\" class=\"dataframe\">\n",
       "  <thead>\n",
       "    <tr style=\"text-align: right;\">\n",
       "      <th></th>\n",
       "      <th>Interest_Rate</th>\n",
       "    </tr>\n",
       "  </thead>\n",
       "  <tbody>\n",
       "    <tr>\n",
       "      <th>1888</th>\n",
       "      <td>21.00</td>\n",
       "    </tr>\n",
       "    <tr>\n",
       "      <th>831</th>\n",
       "      <td>21.98</td>\n",
       "    </tr>\n",
       "    <tr>\n",
       "      <th>526</th>\n",
       "      <td>22.95</td>\n",
       "    </tr>\n",
       "    <tr>\n",
       "      <th>1604</th>\n",
       "      <td>11.48</td>\n",
       "    </tr>\n",
       "    <tr>\n",
       "      <th>121</th>\n",
       "      <td>20.50</td>\n",
       "    </tr>\n",
       "    <tr>\n",
       "      <th>...</th>\n",
       "      <td>...</td>\n",
       "    </tr>\n",
       "    <tr>\n",
       "      <th>654</th>\n",
       "      <td>12.69</td>\n",
       "    </tr>\n",
       "    <tr>\n",
       "      <th>1146</th>\n",
       "      <td>16.49</td>\n",
       "    </tr>\n",
       "    <tr>\n",
       "      <th>1259</th>\n",
       "      <td>11.14</td>\n",
       "    </tr>\n",
       "    <tr>\n",
       "      <th>1442</th>\n",
       "      <td>7.90</td>\n",
       "    </tr>\n",
       "    <tr>\n",
       "      <th>399</th>\n",
       "      <td>11.71</td>\n",
       "    </tr>\n",
       "  </tbody>\n",
       "</table>\n",
       "<p>1760 rows × 1 columns</p>\n",
       "</div>"
      ],
      "text/plain": [
       "      Interest_Rate\n",
       "1888          21.00\n",
       "831           21.98\n",
       "526           22.95\n",
       "1604          11.48\n",
       "121           20.50\n",
       "...             ...\n",
       "654           12.69\n",
       "1146          16.49\n",
       "1259          11.14\n",
       "1442           7.90\n",
       "399           11.71\n",
       "\n",
       "[1760 rows x 1 columns]"
      ]
     },
     "execution_count": 107,
     "metadata": {},
     "output_type": "execute_result"
    }
   ],
   "source": [
    "y_train"
   ]
  },
  {
   "cell_type": "markdown",
   "id": "3c48cecd",
   "metadata": {},
   "source": [
    "### Linear Regression "
   ]
  },
  {
   "cell_type": "code",
   "execution_count": 109,
   "id": "b7475246",
   "metadata": {},
   "outputs": [
    {
     "data": {
      "text/html": [
       "<style>#sk-container-id-1 {color: black;background-color: white;}#sk-container-id-1 pre{padding: 0;}#sk-container-id-1 div.sk-toggleable {background-color: white;}#sk-container-id-1 label.sk-toggleable__label {cursor: pointer;display: block;width: 100%;margin-bottom: 0;padding: 0.3em;box-sizing: border-box;text-align: center;}#sk-container-id-1 label.sk-toggleable__label-arrow:before {content: \"▸\";float: left;margin-right: 0.25em;color: #696969;}#sk-container-id-1 label.sk-toggleable__label-arrow:hover:before {color: black;}#sk-container-id-1 div.sk-estimator:hover label.sk-toggleable__label-arrow:before {color: black;}#sk-container-id-1 div.sk-toggleable__content {max-height: 0;max-width: 0;overflow: hidden;text-align: left;background-color: #f0f8ff;}#sk-container-id-1 div.sk-toggleable__content pre {margin: 0.2em;color: black;border-radius: 0.25em;background-color: #f0f8ff;}#sk-container-id-1 input.sk-toggleable__control:checked~div.sk-toggleable__content {max-height: 200px;max-width: 100%;overflow: auto;}#sk-container-id-1 input.sk-toggleable__control:checked~label.sk-toggleable__label-arrow:before {content: \"▾\";}#sk-container-id-1 div.sk-estimator input.sk-toggleable__control:checked~label.sk-toggleable__label {background-color: #d4ebff;}#sk-container-id-1 div.sk-label input.sk-toggleable__control:checked~label.sk-toggleable__label {background-color: #d4ebff;}#sk-container-id-1 input.sk-hidden--visually {border: 0;clip: rect(1px 1px 1px 1px);clip: rect(1px, 1px, 1px, 1px);height: 1px;margin: -1px;overflow: hidden;padding: 0;position: absolute;width: 1px;}#sk-container-id-1 div.sk-estimator {font-family: monospace;background-color: #f0f8ff;border: 1px dotted black;border-radius: 0.25em;box-sizing: border-box;margin-bottom: 0.5em;}#sk-container-id-1 div.sk-estimator:hover {background-color: #d4ebff;}#sk-container-id-1 div.sk-parallel-item::after {content: \"\";width: 100%;border-bottom: 1px solid gray;flex-grow: 1;}#sk-container-id-1 div.sk-label:hover label.sk-toggleable__label {background-color: #d4ebff;}#sk-container-id-1 div.sk-serial::before {content: \"\";position: absolute;border-left: 1px solid gray;box-sizing: border-box;top: 0;bottom: 0;left: 50%;z-index: 0;}#sk-container-id-1 div.sk-serial {display: flex;flex-direction: column;align-items: center;background-color: white;padding-right: 0.2em;padding-left: 0.2em;position: relative;}#sk-container-id-1 div.sk-item {position: relative;z-index: 1;}#sk-container-id-1 div.sk-parallel {display: flex;align-items: stretch;justify-content: center;background-color: white;position: relative;}#sk-container-id-1 div.sk-item::before, #sk-container-id-1 div.sk-parallel-item::before {content: \"\";position: absolute;border-left: 1px solid gray;box-sizing: border-box;top: 0;bottom: 0;left: 50%;z-index: -1;}#sk-container-id-1 div.sk-parallel-item {display: flex;flex-direction: column;z-index: 1;position: relative;background-color: white;}#sk-container-id-1 div.sk-parallel-item:first-child::after {align-self: flex-end;width: 50%;}#sk-container-id-1 div.sk-parallel-item:last-child::after {align-self: flex-start;width: 50%;}#sk-container-id-1 div.sk-parallel-item:only-child::after {width: 0;}#sk-container-id-1 div.sk-dashed-wrapped {border: 1px dashed gray;margin: 0 0.4em 0.5em 0.4em;box-sizing: border-box;padding-bottom: 0.4em;background-color: white;}#sk-container-id-1 div.sk-label label {font-family: monospace;font-weight: bold;display: inline-block;line-height: 1.2em;}#sk-container-id-1 div.sk-label-container {text-align: center;}#sk-container-id-1 div.sk-container {/* jupyter's `normalize.less` sets `[hidden] { display: none; }` but bootstrap.min.css set `[hidden] { display: none !important; }` so we also need the `!important` here to be able to override the default hidden behavior on the sphinx rendered scikit-learn.org. See: https://github.com/scikit-learn/scikit-learn/issues/21755 */display: inline-block !important;position: relative;}#sk-container-id-1 div.sk-text-repr-fallback {display: none;}</style><div id=\"sk-container-id-1\" class=\"sk-top-container\"><div class=\"sk-text-repr-fallback\"><pre>LinearRegression()</pre><b>In a Jupyter environment, please rerun this cell to show the HTML representation or trust the notebook. <br />On GitHub, the HTML representation is unable to render, please try loading this page with nbviewer.org.</b></div><div class=\"sk-container\" hidden><div class=\"sk-item\"><div class=\"sk-estimator sk-toggleable\"><input class=\"sk-toggleable__control sk-hidden--visually\" id=\"sk-estimator-id-1\" type=\"checkbox\" checked><label for=\"sk-estimator-id-1\" class=\"sk-toggleable__label sk-toggleable__label-arrow\">LinearRegression</label><div class=\"sk-toggleable__content\"><pre>LinearRegression()</pre></div></div></div></div></div>"
      ],
      "text/plain": [
       "LinearRegression()"
      ]
     },
     "execution_count": 109,
     "metadata": {},
     "output_type": "execute_result"
    }
   ],
   "source": [
    "from sklearn.linear_model import LinearRegression\n",
    "linearregression = LinearRegression()\n",
    "linearregression.fit(X_train,y_train)"
   ]
  },
  {
   "cell_type": "code",
   "execution_count": 110,
   "id": "20163d74",
   "metadata": {},
   "outputs": [
    {
     "name": "stdout",
     "output_type": "stream",
     "text": [
      "[76.00946216]\n",
      "[[ 7.88576459e-05  7.91372314e-05  1.35019388e-01 -3.76084485e-03\n",
      "  -3.57880297e-05 -9.79170739e-02 -3.48870580e-02 -5.93392706e-07\n",
      "  -1.11339415e+00  8.73999227e-02  3.70502962e+00]]\n"
     ]
    }
   ],
   "source": [
    "print(linearregression.intercept_)\n",
    "print(linearregression.coef_)\n",
    "\n",
    "from sklearn.metrics import mean_absolute_error, mean_squared_error,r2_score\n",
    "pred = linearregression.predict(X_train)"
   ]
  },
  {
   "cell_type": "code",
   "execution_count": 111,
   "id": "2abbb042",
   "metadata": {},
   "outputs": [],
   "source": [
    "def adj_r2_score(predictors, targets, predictions):\n",
    "    r2 = r2_score(targets, predictions)\n",
    "    n = predictors.shape[0]\n",
    "    k = predictors.shape[1]\n",
    "    return 1 - ((1 - r2) * (n - 1) / (n - k - 1))\n",
    "\n",
    "\n",
    "def mape_score(targets, predictions):\n",
    "    return np.mean(np.abs(targets - predictions) / targets) * 100\n",
    "\n",
    "\n",
    "def model_performance_regression(model, predictors, target):\n",
    "    \"\"\"\n",
    "    Function to compute different metrics to check regression model performance\n",
    "    \n",
    "    model: regressor\n",
    "    predictors: independent variables\n",
    "    target: dependent variable\n",
    "    \"\"\"\n",
    "    \n",
    "    \n",
    "    pred = model.predict(predictors)\n",
    "    \n",
    "    r2 = r2_score(target, pred)  # to compute R-squared\n",
    "    adjr2 = adj_r2_score(predictors, target, pred)  # to compute adjusted R-squared\n",
    "    rmse = np.sqrt(mean_squared_error(target, pred))  # to compute RMSE\n",
    "    mae = mean_absolute_error(target, pred)  # to compute MAE\n",
    "   \n",
    "    \n",
    "    # creating a dataframe of metrics\n",
    "    df_perf = pd.DataFrame(\n",
    "        {\n",
    "            \"RMSE\": rmse,\n",
    "            \"MAE\": mae,\n",
    "            \"R-squared\": r2,\n",
    "            \"Adj. R-squared\": adjr2,\n",
    "            \n",
    "        },\n",
    "        index=[0],\n",
    "    )\n",
    "    return df_perf"
   ]
  },
  {
   "cell_type": "code",
   "execution_count": 112,
   "id": "2855c598",
   "metadata": {},
   "outputs": [
    {
     "data": {
      "text/html": [
       "<div>\n",
       "<style scoped>\n",
       "    .dataframe tbody tr th:only-of-type {\n",
       "        vertical-align: middle;\n",
       "    }\n",
       "\n",
       "    .dataframe tbody tr th {\n",
       "        vertical-align: top;\n",
       "    }\n",
       "\n",
       "    .dataframe thead th {\n",
       "        text-align: right;\n",
       "    }\n",
       "</style>\n",
       "<table border=\"1\" class=\"dataframe\">\n",
       "  <thead>\n",
       "    <tr style=\"text-align: right;\">\n",
       "      <th></th>\n",
       "      <th>RMSE</th>\n",
       "      <th>MAE</th>\n",
       "      <th>R-squared</th>\n",
       "      <th>Adj. R-squared</th>\n",
       "    </tr>\n",
       "  </thead>\n",
       "  <tbody>\n",
       "    <tr>\n",
       "      <th>0</th>\n",
       "      <td>1.975801</td>\n",
       "      <td>1.539678</td>\n",
       "      <td>0.772658</td>\n",
       "      <td>0.771228</td>\n",
       "    </tr>\n",
       "  </tbody>\n",
       "</table>\n",
       "</div>"
      ],
      "text/plain": [
       "       RMSE       MAE  R-squared  Adj. R-squared\n",
       "0  1.975801  1.539678   0.772658        0.771228"
      ]
     },
     "execution_count": 112,
     "metadata": {},
     "output_type": "execute_result"
    }
   ],
   "source": [
    "model_train_perf = model_performance_regression(linearregression,X_train,y_train)\n",
    "model_train_perf"
   ]
  },
  {
   "cell_type": "code",
   "execution_count": 113,
   "id": "406df5d6",
   "metadata": {},
   "outputs": [
    {
     "data": {
      "text/html": [
       "<div>\n",
       "<style scoped>\n",
       "    .dataframe tbody tr th:only-of-type {\n",
       "        vertical-align: middle;\n",
       "    }\n",
       "\n",
       "    .dataframe tbody tr th {\n",
       "        vertical-align: top;\n",
       "    }\n",
       "\n",
       "    .dataframe thead th {\n",
       "        text-align: right;\n",
       "    }\n",
       "</style>\n",
       "<table border=\"1\" class=\"dataframe\">\n",
       "  <thead>\n",
       "    <tr style=\"text-align: right;\">\n",
       "      <th></th>\n",
       "      <th>RMSE</th>\n",
       "      <th>MAE</th>\n",
       "      <th>R-squared</th>\n",
       "      <th>Adj. R-squared</th>\n",
       "    </tr>\n",
       "  </thead>\n",
       "  <tbody>\n",
       "    <tr>\n",
       "      <th>0</th>\n",
       "      <td>2.000089</td>\n",
       "      <td>1.514969</td>\n",
       "      <td>0.781862</td>\n",
       "      <td>0.776255</td>\n",
       "    </tr>\n",
       "  </tbody>\n",
       "</table>\n",
       "</div>"
      ],
      "text/plain": [
       "       RMSE       MAE  R-squared  Adj. R-squared\n",
       "0  2.000089  1.514969   0.781862        0.776255"
      ]
     },
     "execution_count": 113,
     "metadata": {},
     "output_type": "execute_result"
    }
   ],
   "source": [
    "model_test_perf =  model_performance_regression(linearregression,X_test,y_test)\n",
    "model_test_perf"
   ]
  },
  {
   "cell_type": "markdown",
   "id": "629bb7f1",
   "metadata": {},
   "source": [
    "### Decision Tree "
   ]
  },
  {
   "cell_type": "code",
   "execution_count": 117,
   "id": "b71ce513",
   "metadata": {},
   "outputs": [],
   "source": [
    "from sklearn.tree import DecisionTreeRegressor"
   ]
  },
  {
   "cell_type": "code",
   "execution_count": 118,
   "id": "fd29db88",
   "metadata": {},
   "outputs": [
    {
     "data": {
      "text/html": [
       "<div>\n",
       "<style scoped>\n",
       "    .dataframe tbody tr th:only-of-type {\n",
       "        vertical-align: middle;\n",
       "    }\n",
       "\n",
       "    .dataframe tbody tr th {\n",
       "        vertical-align: top;\n",
       "    }\n",
       "\n",
       "    .dataframe thead th {\n",
       "        text-align: right;\n",
       "    }\n",
       "</style>\n",
       "<table border=\"1\" class=\"dataframe\">\n",
       "  <thead>\n",
       "    <tr style=\"text-align: right;\">\n",
       "      <th></th>\n",
       "      <th>RMSE</th>\n",
       "      <th>MAE</th>\n",
       "      <th>R-squared</th>\n",
       "      <th>Adj. R-squared</th>\n",
       "    </tr>\n",
       "  </thead>\n",
       "  <tbody>\n",
       "    <tr>\n",
       "      <th>0</th>\n",
       "      <td>1.963329e-16</td>\n",
       "      <td>2.523234e-17</td>\n",
       "      <td>1.0</td>\n",
       "      <td>1.0</td>\n",
       "    </tr>\n",
       "  </tbody>\n",
       "</table>\n",
       "</div>"
      ],
      "text/plain": [
       "           RMSE           MAE  R-squared  Adj. R-squared\n",
       "0  1.963329e-16  2.523234e-17        1.0             1.0"
      ]
     },
     "execution_count": 118,
     "metadata": {},
     "output_type": "execute_result"
    }
   ],
   "source": [
    "from sklearn.tree import DecisionTreeRegressor\n",
    "from sklearn.metrics import mean_squared_error, r2_score, mean_absolute_error\n",
    "\n",
    "# Create a Decision Tree Regressor\n",
    "dt_regressor = DecisionTreeRegressor(random_state=42)\n",
    "\n",
    "# Fit the model on the training data\n",
    "dt_regressor.fit(X_train, y_train)\n",
    "\n",
    "# Make predictions on the training and test data\n",
    "y_train_pred = dt_regressor.predict(X_train)\n",
    "y_test_pred = dt_regressor.predict(X_test)\n",
    "\n",
    "# Evaluate the model performance on the training set\n",
    "model_performance_regression(dt_regressor, X_train, y_train)"
   ]
  },
  {
   "cell_type": "code",
   "execution_count": 119,
   "id": "83c9c0c8",
   "metadata": {},
   "outputs": [
    {
     "data": {
      "text/html": [
       "<div>\n",
       "<style scoped>\n",
       "    .dataframe tbody tr th:only-of-type {\n",
       "        vertical-align: middle;\n",
       "    }\n",
       "\n",
       "    .dataframe tbody tr th {\n",
       "        vertical-align: top;\n",
       "    }\n",
       "\n",
       "    .dataframe thead th {\n",
       "        text-align: right;\n",
       "    }\n",
       "</style>\n",
       "<table border=\"1\" class=\"dataframe\">\n",
       "  <thead>\n",
       "    <tr style=\"text-align: right;\">\n",
       "      <th></th>\n",
       "      <th>RMSE</th>\n",
       "      <th>MAE</th>\n",
       "      <th>R-squared</th>\n",
       "      <th>Adj. R-squared</th>\n",
       "    </tr>\n",
       "  </thead>\n",
       "  <tbody>\n",
       "    <tr>\n",
       "      <th>0</th>\n",
       "      <td>2.623718</td>\n",
       "      <td>1.975455</td>\n",
       "      <td>0.624623</td>\n",
       "      <td>0.614975</td>\n",
       "    </tr>\n",
       "  </tbody>\n",
       "</table>\n",
       "</div>"
      ],
      "text/plain": [
       "       RMSE       MAE  R-squared  Adj. R-squared\n",
       "0  2.623718  1.975455   0.624623        0.614975"
      ]
     },
     "execution_count": 119,
     "metadata": {},
     "output_type": "execute_result"
    }
   ],
   "source": [
    "model_performance_regression(dt_regressor, X_test, y_test)\n"
   ]
  },
  {
   "cell_type": "markdown",
   "id": "8d59c77e",
   "metadata": {},
   "source": [
    "### Decision Tree ( Pruned ) "
   ]
  },
  {
   "cell_type": "code",
   "execution_count": 211,
   "id": "36397a4c",
   "metadata": {},
   "outputs": [
    {
     "data": {
      "text/html": [
       "<div>\n",
       "<style scoped>\n",
       "    .dataframe tbody tr th:only-of-type {\n",
       "        vertical-align: middle;\n",
       "    }\n",
       "\n",
       "    .dataframe tbody tr th {\n",
       "        vertical-align: top;\n",
       "    }\n",
       "\n",
       "    .dataframe thead th {\n",
       "        text-align: right;\n",
       "    }\n",
       "</style>\n",
       "<table border=\"1\" class=\"dataframe\">\n",
       "  <thead>\n",
       "    <tr style=\"text-align: right;\">\n",
       "      <th></th>\n",
       "      <th>RMSE</th>\n",
       "      <th>MAE</th>\n",
       "      <th>R-squared</th>\n",
       "      <th>Adj. R-squared</th>\n",
       "    </tr>\n",
       "  </thead>\n",
       "  <tbody>\n",
       "    <tr>\n",
       "      <th>0</th>\n",
       "      <td>1.888659</td>\n",
       "      <td>1.465553</td>\n",
       "      <td>0.79227</td>\n",
       "      <td>0.790963</td>\n",
       "    </tr>\n",
       "  </tbody>\n",
       "</table>\n",
       "</div>"
      ],
      "text/plain": [
       "       RMSE       MAE  R-squared  Adj. R-squared\n",
       "0  1.888659  1.465553    0.79227        0.790963"
      ]
     },
     "execution_count": 211,
     "metadata": {},
     "output_type": "execute_result"
    }
   ],
   "source": [
    "# Create a Decision Tree Regressor with pre-pruning (max_depth=5 for example)\n",
    "dt_regressor_pruned = DecisionTreeRegressor(max_depth=5, random_state=42)\n",
    "\n",
    "# Fit the pruned model on the training data\n",
    "dt_regressor_pruned.fit(X_train, y_train)\n",
    "\n",
    "# Make predictions on the training and test data\n",
    "y_train_pred_pruned = dt_regressor_pruned.predict(X_train)\n",
    "y_test_pred_pruned = dt_regressor_pruned.predict(X_test)\n",
    "\n",
    "# Evaluate the pruned model performance on the training set\n",
    "model_performance_regression(dt_regressor_pruned, X_train, y_train)\n",
    "\n"
   ]
  },
  {
   "cell_type": "code",
   "execution_count": 212,
   "id": "583ab818",
   "metadata": {},
   "outputs": [
    {
     "data": {
      "text/html": [
       "<div>\n",
       "<style scoped>\n",
       "    .dataframe tbody tr th:only-of-type {\n",
       "        vertical-align: middle;\n",
       "    }\n",
       "\n",
       "    .dataframe tbody tr th {\n",
       "        vertical-align: top;\n",
       "    }\n",
       "\n",
       "    .dataframe thead th {\n",
       "        text-align: right;\n",
       "    }\n",
       "</style>\n",
       "<table border=\"1\" class=\"dataframe\">\n",
       "  <thead>\n",
       "    <tr style=\"text-align: right;\">\n",
       "      <th></th>\n",
       "      <th>RMSE</th>\n",
       "      <th>MAE</th>\n",
       "      <th>R-squared</th>\n",
       "      <th>Adj. R-squared</th>\n",
       "    </tr>\n",
       "  </thead>\n",
       "  <tbody>\n",
       "    <tr>\n",
       "      <th>0</th>\n",
       "      <td>2.039962</td>\n",
       "      <td>1.585561</td>\n",
       "      <td>0.773077</td>\n",
       "      <td>0.767245</td>\n",
       "    </tr>\n",
       "  </tbody>\n",
       "</table>\n",
       "</div>"
      ],
      "text/plain": [
       "       RMSE       MAE  R-squared  Adj. R-squared\n",
       "0  2.039962  1.585561   0.773077        0.767245"
      ]
     },
     "execution_count": 212,
     "metadata": {},
     "output_type": "execute_result"
    }
   ],
   "source": [
    "# Evaluate the pruned model performance on the test set\n",
    "model_performance_regression(dt_regressor_pruned, X_test, y_test)"
   ]
  },
  {
   "cell_type": "markdown",
   "id": "1f4460e4",
   "metadata": {},
   "source": [
    "### Randomforest "
   ]
  },
  {
   "cell_type": "code",
   "execution_count": 122,
   "id": "5b4a7c59",
   "metadata": {},
   "outputs": [
    {
     "data": {
      "text/html": [
       "<div>\n",
       "<style scoped>\n",
       "    .dataframe tbody tr th:only-of-type {\n",
       "        vertical-align: middle;\n",
       "    }\n",
       "\n",
       "    .dataframe tbody tr th {\n",
       "        vertical-align: top;\n",
       "    }\n",
       "\n",
       "    .dataframe thead th {\n",
       "        text-align: right;\n",
       "    }\n",
       "</style>\n",
       "<table border=\"1\" class=\"dataframe\">\n",
       "  <thead>\n",
       "    <tr style=\"text-align: right;\">\n",
       "      <th></th>\n",
       "      <th>RMSE</th>\n",
       "      <th>MAE</th>\n",
       "      <th>R-squared</th>\n",
       "      <th>Adj. R-squared</th>\n",
       "    </tr>\n",
       "  </thead>\n",
       "  <tbody>\n",
       "    <tr>\n",
       "      <th>0</th>\n",
       "      <td>0.711543</td>\n",
       "      <td>0.537543</td>\n",
       "      <td>0.970515</td>\n",
       "      <td>0.97033</td>\n",
       "    </tr>\n",
       "  </tbody>\n",
       "</table>\n",
       "</div>"
      ],
      "text/plain": [
       "       RMSE       MAE  R-squared  Adj. R-squared\n",
       "0  0.711543  0.537543   0.970515         0.97033"
      ]
     },
     "execution_count": 122,
     "metadata": {},
     "output_type": "execute_result"
    }
   ],
   "source": [
    "from sklearn.ensemble import RandomForestRegressor\n",
    "\n",
    "# Create a Random Forest Regressor\n",
    "rf_regressor = RandomForestRegressor(random_state=42)\n",
    "\n",
    "# Fit the model on the training data\n",
    "rf_regressor.fit(X_train, y_train.values.ravel())  # Flatten y_train if it's a DataFrame\n",
    "\n",
    "# Make predictions on the training and test data\n",
    "y_train_pred_rf = rf_regressor.predict(X_train)\n",
    "y_test_pred_rf = rf_regressor.predict(X_test)\n",
    "\n",
    "# Evaluate the model performance on the training set\n",
    "model_performance_regression(rf_regressor, X_train, y_train.values.ravel())"
   ]
  },
  {
   "cell_type": "code",
   "execution_count": 123,
   "id": "7583fd19",
   "metadata": {},
   "outputs": [
    {
     "data": {
      "text/html": [
       "<div>\n",
       "<style scoped>\n",
       "    .dataframe tbody tr th:only-of-type {\n",
       "        vertical-align: middle;\n",
       "    }\n",
       "\n",
       "    .dataframe tbody tr th {\n",
       "        vertical-align: top;\n",
       "    }\n",
       "\n",
       "    .dataframe thead th {\n",
       "        text-align: right;\n",
       "    }\n",
       "</style>\n",
       "<table border=\"1\" class=\"dataframe\">\n",
       "  <thead>\n",
       "    <tr style=\"text-align: right;\">\n",
       "      <th></th>\n",
       "      <th>RMSE</th>\n",
       "      <th>MAE</th>\n",
       "      <th>R-squared</th>\n",
       "      <th>Adj. R-squared</th>\n",
       "    </tr>\n",
       "  </thead>\n",
       "  <tbody>\n",
       "    <tr>\n",
       "      <th>0</th>\n",
       "      <td>1.914254</td>\n",
       "      <td>1.405615</td>\n",
       "      <td>0.800183</td>\n",
       "      <td>0.795047</td>\n",
       "    </tr>\n",
       "  </tbody>\n",
       "</table>\n",
       "</div>"
      ],
      "text/plain": [
       "       RMSE       MAE  R-squared  Adj. R-squared\n",
       "0  1.914254  1.405615   0.800183        0.795047"
      ]
     },
     "execution_count": 123,
     "metadata": {},
     "output_type": "execute_result"
    }
   ],
   "source": [
    "# Evaluate the model performance on the test set\n",
    "model_performance_regression(rf_regressor, X_test, y_test)"
   ]
  },
  {
   "cell_type": "markdown",
   "id": "e9fce24d",
   "metadata": {},
   "source": [
    "### Bagging "
   ]
  },
  {
   "cell_type": "code",
   "execution_count": 198,
   "id": "50fe1a81",
   "metadata": {},
   "outputs": [
    {
     "data": {
      "text/html": [
       "<div>\n",
       "<style scoped>\n",
       "    .dataframe tbody tr th:only-of-type {\n",
       "        vertical-align: middle;\n",
       "    }\n",
       "\n",
       "    .dataframe tbody tr th {\n",
       "        vertical-align: top;\n",
       "    }\n",
       "\n",
       "    .dataframe thead th {\n",
       "        text-align: right;\n",
       "    }\n",
       "</style>\n",
       "<table border=\"1\" class=\"dataframe\">\n",
       "  <thead>\n",
       "    <tr style=\"text-align: right;\">\n",
       "      <th></th>\n",
       "      <th>RMSE</th>\n",
       "      <th>MAE</th>\n",
       "      <th>R-squared</th>\n",
       "      <th>Adj. R-squared</th>\n",
       "    </tr>\n",
       "  </thead>\n",
       "  <tbody>\n",
       "    <tr>\n",
       "      <th>0</th>\n",
       "      <td>0.7272</td>\n",
       "      <td>0.544703</td>\n",
       "      <td>0.969204</td>\n",
       "      <td>0.96901</td>\n",
       "    </tr>\n",
       "  </tbody>\n",
       "</table>\n",
       "</div>"
      ],
      "text/plain": [
       "     RMSE       MAE  R-squared  Adj. R-squared\n",
       "0  0.7272  0.544703   0.969204         0.96901"
      ]
     },
     "execution_count": 198,
     "metadata": {},
     "output_type": "execute_result"
    }
   ],
   "source": [
    "from sklearn.ensemble import BaggingRegressor\n",
    "from sklearn.tree import DecisionTreeRegressor\n",
    "from sklearn.metrics import mean_squared_error, r2_score, mean_absolute_error\n",
    "\n",
    "# Create a Decision Tree Regressor (base model)\n",
    "base_model = DecisionTreeRegressor(random_state=42)\n",
    "\n",
    "# Create a Bagging Regressor with 100 base models\n",
    "bagging_regressor = BaggingRegressor(base_model, n_estimators=50, random_state=42)\n",
    "\n",
    "# Fit the Bagging Regressor on the training data\n",
    "bagging_regressor.fit(X_train, y_train.values.ravel())\n",
    "\n",
    "# Make predictions on the training and test data\n",
    "y_train_pred_bagging = bagging_regressor.predict(X_train)\n",
    "y_test_pred_bagging = bagging_regressor.predict(X_test)\n",
    "\n",
    "# Evaluate the model performance on the training set\n",
    "model_performance_regression(bagging_regressor, X_train, y_train.values.ravel())\n"
   ]
  },
  {
   "cell_type": "code",
   "execution_count": 199,
   "id": "aee53db3",
   "metadata": {},
   "outputs": [
    {
     "data": {
      "text/html": [
       "<div>\n",
       "<style scoped>\n",
       "    .dataframe tbody tr th:only-of-type {\n",
       "        vertical-align: middle;\n",
       "    }\n",
       "\n",
       "    .dataframe tbody tr th {\n",
       "        vertical-align: top;\n",
       "    }\n",
       "\n",
       "    .dataframe thead th {\n",
       "        text-align: right;\n",
       "    }\n",
       "</style>\n",
       "<table border=\"1\" class=\"dataframe\">\n",
       "  <thead>\n",
       "    <tr style=\"text-align: right;\">\n",
       "      <th></th>\n",
       "      <th>RMSE</th>\n",
       "      <th>MAE</th>\n",
       "      <th>R-squared</th>\n",
       "      <th>Adj. R-squared</th>\n",
       "    </tr>\n",
       "  </thead>\n",
       "  <tbody>\n",
       "    <tr>\n",
       "      <th>0</th>\n",
       "      <td>1.914308</td>\n",
       "      <td>1.407628</td>\n",
       "      <td>0.800171</td>\n",
       "      <td>0.795036</td>\n",
       "    </tr>\n",
       "  </tbody>\n",
       "</table>\n",
       "</div>"
      ],
      "text/plain": [
       "       RMSE       MAE  R-squared  Adj. R-squared\n",
       "0  1.914308  1.407628   0.800171        0.795036"
      ]
     },
     "execution_count": 199,
     "metadata": {},
     "output_type": "execute_result"
    }
   ],
   "source": [
    "model_performance_regression(bagging_regressor, X_test, y_test.values.ravel())"
   ]
  },
  {
   "cell_type": "markdown",
   "id": "ce6ded21",
   "metadata": {},
   "source": [
    "### AdaBoost"
   ]
  },
  {
   "cell_type": "code",
   "execution_count": 201,
   "id": "2eca67ff",
   "metadata": {},
   "outputs": [
    {
     "data": {
      "text/html": [
       "<div>\n",
       "<style scoped>\n",
       "    .dataframe tbody tr th:only-of-type {\n",
       "        vertical-align: middle;\n",
       "    }\n",
       "\n",
       "    .dataframe tbody tr th {\n",
       "        vertical-align: top;\n",
       "    }\n",
       "\n",
       "    .dataframe thead th {\n",
       "        text-align: right;\n",
       "    }\n",
       "</style>\n",
       "<table border=\"1\" class=\"dataframe\">\n",
       "  <thead>\n",
       "    <tr style=\"text-align: right;\">\n",
       "      <th></th>\n",
       "      <th>RMSE</th>\n",
       "      <th>MAE</th>\n",
       "      <th>R-squared</th>\n",
       "      <th>Adj. R-squared</th>\n",
       "    </tr>\n",
       "  </thead>\n",
       "  <tbody>\n",
       "    <tr>\n",
       "      <th>0</th>\n",
       "      <td>2.228405</td>\n",
       "      <td>1.859705</td>\n",
       "      <td>0.710812</td>\n",
       "      <td>0.708992</td>\n",
       "    </tr>\n",
       "  </tbody>\n",
       "</table>\n",
       "</div>"
      ],
      "text/plain": [
       "       RMSE       MAE  R-squared  Adj. R-squared\n",
       "0  2.228405  1.859705   0.710812        0.708992"
      ]
     },
     "execution_count": 201,
     "metadata": {},
     "output_type": "execute_result"
    }
   ],
   "source": [
    "from sklearn.ensemble import AdaBoostRegressor\n",
    "from sklearn.tree import DecisionTreeRegressor\n",
    "from sklearn.metrics import mean_squared_error, r2_score, mean_absolute_error\n",
    "\n",
    "# Create a base Decision Tree Regressor\n",
    "base_regressor = DecisionTreeRegressor(max_depth=3)\n",
    "\n",
    "# Create AdaBoost Regressor\n",
    "adaboost_regressor = AdaBoostRegressor(base_regressor, n_estimators=100, random_state=42)\n",
    "\n",
    "# Fit the model on the training data\n",
    "adaboost_regressor.fit(X_train, y_train.values.ravel())\n",
    "\n",
    "# Make predictions on the training and test data\n",
    "y_train_pred_ab = adaboost_regressor.predict(X_train)\n",
    "y_test_pred_ab = adaboost_regressor.predict(X_test)\n",
    "\n",
    "# Evaluate the model performance on the training set\n",
    "model_performance_regression(adaboost_regressor, X_train, y_train.values.ravel())\n",
    "\n"
   ]
  },
  {
   "cell_type": "code",
   "execution_count": 197,
   "id": "e8788290",
   "metadata": {},
   "outputs": [
    {
     "data": {
      "text/html": [
       "<div>\n",
       "<style scoped>\n",
       "    .dataframe tbody tr th:only-of-type {\n",
       "        vertical-align: middle;\n",
       "    }\n",
       "\n",
       "    .dataframe tbody tr th {\n",
       "        vertical-align: top;\n",
       "    }\n",
       "\n",
       "    .dataframe thead th {\n",
       "        text-align: right;\n",
       "    }\n",
       "</style>\n",
       "<table border=\"1\" class=\"dataframe\">\n",
       "  <thead>\n",
       "    <tr style=\"text-align: right;\">\n",
       "      <th></th>\n",
       "      <th>RMSE</th>\n",
       "      <th>MAE</th>\n",
       "      <th>R-squared</th>\n",
       "      <th>Adj. R-squared</th>\n",
       "    </tr>\n",
       "  </thead>\n",
       "  <tbody>\n",
       "    <tr>\n",
       "      <th>0</th>\n",
       "      <td>2.33748</td>\n",
       "      <td>1.894877</td>\n",
       "      <td>0.70206</td>\n",
       "      <td>0.694402</td>\n",
       "    </tr>\n",
       "  </tbody>\n",
       "</table>\n",
       "</div>"
      ],
      "text/plain": [
       "      RMSE       MAE  R-squared  Adj. R-squared\n",
       "0  2.33748  1.894877    0.70206        0.694402"
      ]
     },
     "execution_count": 197,
     "metadata": {},
     "output_type": "execute_result"
    }
   ],
   "source": [
    "model_performance_regression(adaboost_regressor, X_test, y_test.values.ravel())"
   ]
  },
  {
   "cell_type": "markdown",
   "id": "8d7dfa35",
   "metadata": {},
   "source": [
    "### Gradient Boosting "
   ]
  },
  {
   "cell_type": "code",
   "execution_count": 192,
   "id": "9b2dcf3e",
   "metadata": {},
   "outputs": [
    {
     "data": {
      "text/html": [
       "<div>\n",
       "<style scoped>\n",
       "    .dataframe tbody tr th:only-of-type {\n",
       "        vertical-align: middle;\n",
       "    }\n",
       "\n",
       "    .dataframe tbody tr th {\n",
       "        vertical-align: top;\n",
       "    }\n",
       "\n",
       "    .dataframe thead th {\n",
       "        text-align: right;\n",
       "    }\n",
       "</style>\n",
       "<table border=\"1\" class=\"dataframe\">\n",
       "  <thead>\n",
       "    <tr style=\"text-align: right;\">\n",
       "      <th></th>\n",
       "      <th>RMSE</th>\n",
       "      <th>MAE</th>\n",
       "      <th>R-squared</th>\n",
       "      <th>Adj. R-squared</th>\n",
       "    </tr>\n",
       "  </thead>\n",
       "  <tbody>\n",
       "    <tr>\n",
       "      <th>0</th>\n",
       "      <td>1.677501</td>\n",
       "      <td>1.296906</td>\n",
       "      <td>0.836123</td>\n",
       "      <td>0.835092</td>\n",
       "    </tr>\n",
       "  </tbody>\n",
       "</table>\n",
       "</div>"
      ],
      "text/plain": [
       "       RMSE       MAE  R-squared  Adj. R-squared\n",
       "0  1.677501  1.296906   0.836123        0.835092"
      ]
     },
     "execution_count": 192,
     "metadata": {},
     "output_type": "execute_result"
    }
   ],
   "source": [
    "from sklearn.ensemble import GradientBoostingRegressor\n",
    "from sklearn.metrics import mean_squared_error, r2_score, mean_absolute_error\n",
    "\n",
    "# Create Gradient Boosting Regressor\n",
    "gradient_regressor = GradientBoostingRegressor(n_estimators=100, learning_rate=0.1, max_depth=2, random_state=42)\n",
    "\n",
    "# Fit the model on the training data\n",
    "gradient_regressor.fit(X_train, y_train.values.ravel())\n",
    "\n",
    "# Make predictions on the training and test data\n",
    "y_train_pred_gb = gradient_regressor.predict(X_train)\n",
    "y_test_pred_gb = gradient_regressor.predict(X_test)\n",
    "\n",
    "# Evaluate the model performance on the training set\n",
    "model_performance_regression(gradient_regressor, X_train, y_train.values.ravel())\n"
   ]
  },
  {
   "cell_type": "code",
   "execution_count": 193,
   "id": "b2d1ea8b",
   "metadata": {},
   "outputs": [
    {
     "data": {
      "text/html": [
       "<div>\n",
       "<style scoped>\n",
       "    .dataframe tbody tr th:only-of-type {\n",
       "        vertical-align: middle;\n",
       "    }\n",
       "\n",
       "    .dataframe tbody tr th {\n",
       "        vertical-align: top;\n",
       "    }\n",
       "\n",
       "    .dataframe thead th {\n",
       "        text-align: right;\n",
       "    }\n",
       "</style>\n",
       "<table border=\"1\" class=\"dataframe\">\n",
       "  <thead>\n",
       "    <tr style=\"text-align: right;\">\n",
       "      <th></th>\n",
       "      <th>RMSE</th>\n",
       "      <th>MAE</th>\n",
       "      <th>R-squared</th>\n",
       "      <th>Adj. R-squared</th>\n",
       "    </tr>\n",
       "  </thead>\n",
       "  <tbody>\n",
       "    <tr>\n",
       "      <th>0</th>\n",
       "      <td>1.815035</td>\n",
       "      <td>1.370935</td>\n",
       "      <td>0.82036</td>\n",
       "      <td>0.815743</td>\n",
       "    </tr>\n",
       "  </tbody>\n",
       "</table>\n",
       "</div>"
      ],
      "text/plain": [
       "       RMSE       MAE  R-squared  Adj. R-squared\n",
       "0  1.815035  1.370935    0.82036        0.815743"
      ]
     },
     "execution_count": 193,
     "metadata": {},
     "output_type": "execute_result"
    }
   ],
   "source": [
    "model_performance_regression(gradient_regressor, X_test, y_test.values.ravel())"
   ]
  },
  {
   "cell_type": "markdown",
   "id": "c978f47c",
   "metadata": {},
   "source": [
    "### XGBoost "
   ]
  },
  {
   "cell_type": "code",
   "execution_count": 214,
   "id": "9648dcca",
   "metadata": {},
   "outputs": [],
   "source": [
    "import xgboost as xgb\n",
    "from sklearn.metrics import mean_squared_error, r2_score, mean_absolute_error\n",
    "\n",
    "# Create XGBoost Regressor\n",
    "xgb_regressor = xgb.XGBRegressor(objective='reg:squarederror', n_estimators=100, learning_rate=0.1, max_depth=2, random_state=42)\n",
    "\n",
    "# Fit the model on the training data\n",
    "xgb_regressor.fit(X_train, y_train)\n",
    "\n",
    "# Make predictions on the training and test data\n",
    "y_train_pred_xgb = xgb_regressor.predict(X_train)\n",
    "y_test_pred_xgb = xgb_regressor.predict(X_test)\n"
   ]
  },
  {
   "cell_type": "code",
   "execution_count": 215,
   "id": "96918769",
   "metadata": {},
   "outputs": [
    {
     "data": {
      "text/html": [
       "<div>\n",
       "<style scoped>\n",
       "    .dataframe tbody tr th:only-of-type {\n",
       "        vertical-align: middle;\n",
       "    }\n",
       "\n",
       "    .dataframe tbody tr th {\n",
       "        vertical-align: top;\n",
       "    }\n",
       "\n",
       "    .dataframe thead th {\n",
       "        text-align: right;\n",
       "    }\n",
       "</style>\n",
       "<table border=\"1\" class=\"dataframe\">\n",
       "  <thead>\n",
       "    <tr style=\"text-align: right;\">\n",
       "      <th></th>\n",
       "      <th>RMSE</th>\n",
       "      <th>MAE</th>\n",
       "      <th>R-squared</th>\n",
       "      <th>Adj. R-squared</th>\n",
       "    </tr>\n",
       "  </thead>\n",
       "  <tbody>\n",
       "    <tr>\n",
       "      <th>0</th>\n",
       "      <td>1.687301</td>\n",
       "      <td>1.303267</td>\n",
       "      <td>0.834203</td>\n",
       "      <td>0.833159</td>\n",
       "    </tr>\n",
       "  </tbody>\n",
       "</table>\n",
       "</div>"
      ],
      "text/plain": [
       "       RMSE       MAE  R-squared  Adj. R-squared\n",
       "0  1.687301  1.303267   0.834203        0.833159"
      ]
     },
     "execution_count": 215,
     "metadata": {},
     "output_type": "execute_result"
    }
   ],
   "source": [
    "model_performance_regression(xgb_regressor, X_train, y_train.values.ravel())"
   ]
  },
  {
   "cell_type": "code",
   "execution_count": 217,
   "id": "bdaecbe1",
   "metadata": {},
   "outputs": [
    {
     "data": {
      "text/html": [
       "<div>\n",
       "<style scoped>\n",
       "    .dataframe tbody tr th:only-of-type {\n",
       "        vertical-align: middle;\n",
       "    }\n",
       "\n",
       "    .dataframe tbody tr th {\n",
       "        vertical-align: top;\n",
       "    }\n",
       "\n",
       "    .dataframe thead th {\n",
       "        text-align: right;\n",
       "    }\n",
       "</style>\n",
       "<table border=\"1\" class=\"dataframe\">\n",
       "  <thead>\n",
       "    <tr style=\"text-align: right;\">\n",
       "      <th></th>\n",
       "      <th>RMSE</th>\n",
       "      <th>MAE</th>\n",
       "      <th>R-squared</th>\n",
       "      <th>Adj. R-squared</th>\n",
       "    </tr>\n",
       "  </thead>\n",
       "  <tbody>\n",
       "    <tr>\n",
       "      <th>0</th>\n",
       "      <td>1.81531</td>\n",
       "      <td>1.372692</td>\n",
       "      <td>0.820305</td>\n",
       "      <td>0.815687</td>\n",
       "    </tr>\n",
       "  </tbody>\n",
       "</table>\n",
       "</div>"
      ],
      "text/plain": [
       "      RMSE       MAE  R-squared  Adj. R-squared\n",
       "0  1.81531  1.372692   0.820305        0.815687"
      ]
     },
     "execution_count": 217,
     "metadata": {},
     "output_type": "execute_result"
    }
   ],
   "source": [
    "model_performance_regression(xgb_regressor, X_test, y_test.values.ravel())"
   ]
  },
  {
   "cell_type": "markdown",
   "id": "3ae0de0a",
   "metadata": {},
   "source": [
    "### Overall Models comparison"
   ]
  },
  {
   "cell_type": "code",
   "execution_count": 222,
   "id": "43356268",
   "metadata": {},
   "outputs": [
    {
     "data": {
      "text/html": [
       "<div>\n",
       "<style scoped>\n",
       "    .dataframe tbody tr th:only-of-type {\n",
       "        vertical-align: middle;\n",
       "    }\n",
       "\n",
       "    .dataframe tbody tr th {\n",
       "        vertical-align: top;\n",
       "    }\n",
       "\n",
       "    .dataframe thead th {\n",
       "        text-align: right;\n",
       "    }\n",
       "</style>\n",
       "<table border=\"1\" class=\"dataframe\">\n",
       "  <thead>\n",
       "    <tr style=\"text-align: right;\">\n",
       "      <th></th>\n",
       "      <th>Model</th>\n",
       "      <th>Train_RMSE</th>\n",
       "      <th>Train_MAE</th>\n",
       "      <th>Train_R-squared</th>\n",
       "      <th>Train_Adj. R-squared</th>\n",
       "      <th>Test_RMSE</th>\n",
       "      <th>Test_MAE</th>\n",
       "      <th>Test_R-squared</th>\n",
       "      <th>Test_Adj. R-squared</th>\n",
       "    </tr>\n",
       "  </thead>\n",
       "  <tbody>\n",
       "    <tr>\n",
       "      <th>0</th>\n",
       "      <td>Linear Regression (sklearn)</td>\n",
       "      <td>1.975801e+00</td>\n",
       "      <td>1.539678e+00</td>\n",
       "      <td>0.772658</td>\n",
       "      <td>0.771228</td>\n",
       "      <td>2.000089</td>\n",
       "      <td>1.514969</td>\n",
       "      <td>0.781862</td>\n",
       "      <td>0.776255</td>\n",
       "    </tr>\n",
       "    <tr>\n",
       "      <th>1</th>\n",
       "      <td>Decision Tree (Base)</td>\n",
       "      <td>1.963329e-16</td>\n",
       "      <td>2.523234e-17</td>\n",
       "      <td>1.000000</td>\n",
       "      <td>1.000000</td>\n",
       "      <td>2.623718</td>\n",
       "      <td>1.975455</td>\n",
       "      <td>0.624623</td>\n",
       "      <td>0.614975</td>\n",
       "    </tr>\n",
       "    <tr>\n",
       "      <th>2</th>\n",
       "      <td>Decision Tree (Pre Pruning)</td>\n",
       "      <td>1.888659e+00</td>\n",
       "      <td>1.465553e+00</td>\n",
       "      <td>0.792270</td>\n",
       "      <td>0.790963</td>\n",
       "      <td>2.039962</td>\n",
       "      <td>1.585561</td>\n",
       "      <td>0.773077</td>\n",
       "      <td>0.767245</td>\n",
       "    </tr>\n",
       "    <tr>\n",
       "      <th>3</th>\n",
       "      <td>Random Forest</td>\n",
       "      <td>7.115430e-01</td>\n",
       "      <td>5.375430e-01</td>\n",
       "      <td>0.970515</td>\n",
       "      <td>0.970330</td>\n",
       "      <td>1.914254</td>\n",
       "      <td>1.405615</td>\n",
       "      <td>0.800183</td>\n",
       "      <td>0.795047</td>\n",
       "    </tr>\n",
       "    <tr>\n",
       "      <th>4</th>\n",
       "      <td>Bagging</td>\n",
       "      <td>7.272000e-01</td>\n",
       "      <td>5.447030e-01</td>\n",
       "      <td>0.969204</td>\n",
       "      <td>0.969010</td>\n",
       "      <td>1.914308</td>\n",
       "      <td>1.407628</td>\n",
       "      <td>0.800171</td>\n",
       "      <td>0.795035</td>\n",
       "    </tr>\n",
       "    <tr>\n",
       "      <th>5</th>\n",
       "      <td>Adaboost</td>\n",
       "      <td>2.284050e-01</td>\n",
       "      <td>1.859705e+00</td>\n",
       "      <td>0.710812</td>\n",
       "      <td>0.708992</td>\n",
       "      <td>2.337480</td>\n",
       "      <td>1.894877</td>\n",
       "      <td>0.702060</td>\n",
       "      <td>0.694402</td>\n",
       "    </tr>\n",
       "    <tr>\n",
       "      <th>6</th>\n",
       "      <td>Gradient Boosting</td>\n",
       "      <td>1.677501e+00</td>\n",
       "      <td>1.296906e+00</td>\n",
       "      <td>0.836123</td>\n",
       "      <td>0.835092</td>\n",
       "      <td>1.815035</td>\n",
       "      <td>1.270935</td>\n",
       "      <td>0.820360</td>\n",
       "      <td>0.815743</td>\n",
       "    </tr>\n",
       "    <tr>\n",
       "      <th>7</th>\n",
       "      <td>XG Boost</td>\n",
       "      <td>1.687301e+00</td>\n",
       "      <td>1.303267e+00</td>\n",
       "      <td>0.834203</td>\n",
       "      <td>0.833159</td>\n",
       "      <td>1.815310</td>\n",
       "      <td>1.372692</td>\n",
       "      <td>0.820305</td>\n",
       "      <td>0.815743</td>\n",
       "    </tr>\n",
       "  </tbody>\n",
       "</table>\n",
       "</div>"
      ],
      "text/plain": [
       "                         Model    Train_RMSE     Train_MAE  Train_R-squared  \\\n",
       "0  Linear Regression (sklearn)  1.975801e+00  1.539678e+00         0.772658   \n",
       "1         Decision Tree (Base)  1.963329e-16  2.523234e-17         1.000000   \n",
       "2  Decision Tree (Pre Pruning)  1.888659e+00  1.465553e+00         0.792270   \n",
       "3                Random Forest  7.115430e-01  5.375430e-01         0.970515   \n",
       "4                      Bagging  7.272000e-01  5.447030e-01         0.969204   \n",
       "5                     Adaboost  2.284050e-01  1.859705e+00         0.710812   \n",
       "6            Gradient Boosting  1.677501e+00  1.296906e+00         0.836123   \n",
       "7                     XG Boost  1.687301e+00  1.303267e+00         0.834203   \n",
       "\n",
       "   Train_Adj. R-squared  Test_RMSE  Test_MAE  Test_R-squared  \\\n",
       "0              0.771228   2.000089  1.514969        0.781862   \n",
       "1              1.000000   2.623718  1.975455        0.624623   \n",
       "2              0.790963   2.039962  1.585561        0.773077   \n",
       "3              0.970330   1.914254  1.405615        0.800183   \n",
       "4              0.969010   1.914308  1.407628        0.800171   \n",
       "5              0.708992   2.337480  1.894877        0.702060   \n",
       "6              0.835092   1.815035  1.270935        0.820360   \n",
       "7              0.833159   1.815310  1.372692        0.820305   \n",
       "\n",
       "   Test_Adj. R-squared  \n",
       "0             0.776255  \n",
       "1             0.614975  \n",
       "2             0.767245  \n",
       "3             0.795047  \n",
       "4             0.795035  \n",
       "5             0.694402  \n",
       "6             0.815743  \n",
       "7             0.815743  "
      ]
     },
     "execution_count": 222,
     "metadata": {},
     "output_type": "execute_result"
    }
   ],
   "source": [
    "\n",
    "data = {\n",
    "    'Model': ['Linear Regression (sklearn)',  'Decision Tree (Base)',\n",
    "              'Decision Tree (Pre Pruning)', 'Random Forest', 'Bagging', 'Adaboost', 'Gradient Boosting', 'XG Boost'],\n",
    "    'Train_RMSE': [1.975801,1.963329e-16,1.888659,0.711543,0.7272,0.228405,1.677501,1.687301],\n",
    "    'Train_MAE': [1.539678,2.523234e-17,1.465553,0.537543,0.544703,1.859705,1.296906,1.303267],\n",
    "    'Train_R-squared': [0.772658,1.0,0.79227,0.970515,0.969204,0.710812,0.836123,0.834203],\n",
    "    'Train_Adj. R-squared': [0.771228,1.0,0.790963,0.97033,0.96901,0.708992,0.835092,0.833159],\n",
    "   \n",
    "    \n",
    "    'Test_RMSE': [2.000089,2.623718,2.039962,1.914254,1.914308,2.33748,1.815035,1.81531],\n",
    "    'Test_MAE': [1.514969,1.975455,1.585561,1.405615,1.407628,1.894877,1.270935,1.372692],\n",
    "    'Test_R-squared': [0.781862,0.624623,0.773077,0.800183,0.800171,0.70206,0.82036,0.820305],\n",
    "    'Test_Adj. R-squared': [0.776255,0.614975,0.767245,0.795047,0.795035,0.694402,0.815743,0.815743,],\n",
    "    \n",
    "}\n",
    "\n",
    "fdf = pd.DataFrame(data)\n",
    "fdf"
   ]
  },
  {
   "cell_type": "markdown",
   "id": "f648bc2f",
   "metadata": {},
   "source": [
    "### Business Observation "
   ]
  },
  {
   "cell_type": "markdown",
   "id": "72439f8d",
   "metadata": {},
   "source": [
    "Analyzing how well different models predict loan outcomes based on various factors can help lenders make smarter decisions about who to approve for loans, how much interest to charge, and how to manage risk. Using advanced techniques that accurately predict these outcomes can make the lending process more efficient and lead to happier customers who are more likely to stick with the lender."
   ]
  },
  {
   "cell_type": "code",
   "execution_count": null,
   "id": "7cac5caa",
   "metadata": {},
   "outputs": [],
   "source": []
  }
 ],
 "metadata": {
  "kernelspec": {
   "display_name": "Python 3 (ipykernel)",
   "language": "python",
   "name": "python3"
  },
  "language_info": {
   "codemirror_mode": {
    "name": "ipython",
    "version": 3
   },
   "file_extension": ".py",
   "mimetype": "text/x-python",
   "name": "python",
   "nbconvert_exporter": "python",
   "pygments_lexer": "ipython3",
   "version": "3.10.9"
  }
 },
 "nbformat": 4,
 "nbformat_minor": 5
}
